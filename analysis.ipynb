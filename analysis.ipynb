{
 "cells": [
  {
   "cell_type": "code",
   "execution_count": null,
   "id": "c47e26ab",
   "metadata": {},
   "outputs": [],
   "source": [
    "import pandas as pd\n",
    "import sqlite3 as sq\n",
    "import pyasn\n",
    "from IPy import IP\n",
    "import requests"
   ]
  },
  {
   "cell_type": "markdown",
   "id": "857b8f37",
   "metadata": {},
   "source": [
    "#### ================================================================================"
   ]
  },
  {
   "cell_type": "markdown",
   "id": "4cd79240",
   "metadata": {},
   "source": [
    "# Load measurements"
   ]
  },
  {
   "cell_type": "code",
   "execution_count": null,
   "id": "c2c8df1c",
   "metadata": {},
   "outputs": [],
   "source": [
    "full_df = pd.read_parquet('measurements.parquet')"
   ]
  },
  {
   "cell_type": "code",
   "execution_count": null,
   "id": "53b7c0b4",
   "metadata": {},
   "outputs": [],
   "source": [
    "def create_table_column(row):\n",
    "    if row['resolver_name'] == 'Probe Resolver':\n",
    "        return 'Probe Do' + row['proto']\n",
    "    else:\n",
    "        return 'Public Do' + row['proto']\n",
    "\n",
    "full_df['resolver_protocol'] = full_df.apply(lambda x: create_table_column(x), axis=1) "
   ]
  },
  {
   "cell_type": "code",
   "execution_count": null,
   "id": "d2bb81e9",
   "metadata": {},
   "outputs": [],
   "source": [
    "filter_list = pd.read_csv('public-resolvers-ipv4s.csv', header=None)"
   ]
  },
  {
   "cell_type": "code",
   "execution_count": null,
   "id": "9f1f0348",
   "metadata": {},
   "outputs": [],
   "source": [
    "tmp = full_df[full_df['resolver_name'] == 'Probe Resolver']['dst_address'].isin(filter_list)"
   ]
  },
  {
   "cell_type": "code",
   "execution_count": null,
   "id": "134fdf07",
   "metadata": {},
   "outputs": [],
   "source": [
    "tmp.unique()\n",
    "# False => no Probe resolvers with destinations from filter list"
   ]
  },
  {
   "cell_type": "code",
   "execution_count": null,
   "id": "f31fdc8b",
   "metadata": {},
   "outputs": [],
   "source": [
    "full_df['resolver_name'].unique()"
   ]
  },
  {
   "cell_type": "code",
   "execution_count": null,
   "id": "e6e7850b",
   "metadata": {
    "scrolled": true
   },
   "outputs": [],
   "source": [
    "full_df.columns"
   ]
  },
  {
   "cell_type": "code",
   "execution_count": null,
   "id": "34afa659",
   "metadata": {},
   "outputs": [],
   "source": [
    "full_df['edns_udp_size'].unique()"
   ]
  },
  {
   "cell_type": "code",
   "execution_count": null,
   "id": "6275ae73",
   "metadata": {},
   "outputs": [],
   "source": [
    "full_df['edns0_buff_size'] = full_df['edns_udp_size'].fillna('none').map(lambda x: x if x in ['512', '1232', '4096', 'none'] else 'other')"
   ]
  },
  {
   "cell_type": "code",
   "execution_count": null,
   "id": "7f852962",
   "metadata": {},
   "outputs": [],
   "source": [
    "full_df['failure'] = full_df['err_msg'].map(lambda x: 'ok' if x is None else 'failed')"
   ]
  },
  {
   "cell_type": "markdown",
   "id": "444598f4",
   "metadata": {},
   "source": [
    "### Remove IPv6 target addresses"
   ]
  },
  {
   "cell_type": "code",
   "execution_count": null,
   "id": "9abef2ec",
   "metadata": {
    "scrolled": true
   },
   "outputs": [],
   "source": [
    "full_df['dst_address'].str.contains(':').sum()\n",
    "# IPv6 target addresses"
   ]
  },
  {
   "cell_type": "code",
   "execution_count": null,
   "id": "90bba3c5",
   "metadata": {},
   "outputs": [],
   "source": [
    "full_df = full_df.drop(full_df[full_df['dst_address'].str.contains(':')].index)"
   ]
  },
  {
   "cell_type": "code",
   "execution_count": null,
   "id": "ad5ef31f",
   "metadata": {},
   "outputs": [],
   "source": [
    "full_df['dst_address'].str.contains(':').sum()\n",
    "# Should be 0"
   ]
  },
  {
   "cell_type": "markdown",
   "id": "6c3de441",
   "metadata": {},
   "source": [
    "#### ================================================================================"
   ]
  },
  {
   "cell_type": "markdown",
   "id": "a074a6c7",
   "metadata": {},
   "source": [
    "# Dataset Overview Table: Samples, Failure Rates, EDNS(0) Buffer Sizes - part of Table 3"
   ]
  },
  {
   "cell_type": "markdown",
   "id": "dabd4555",
   "metadata": {},
   "source": [
    "### Samples"
   ]
  },
  {
   "cell_type": "code",
   "execution_count": null,
   "id": "0c8d0f2e",
   "metadata": {},
   "outputs": [],
   "source": [
    "full_df['resolver_protocol'].value_counts()"
   ]
  },
  {
   "cell_type": "code",
   "execution_count": null,
   "id": "541ce003",
   "metadata": {},
   "outputs": [],
   "source": [
    "full_df['resolver_protocol'].value_counts().sum()"
   ]
  },
  {
   "cell_type": "markdown",
   "id": "fbfd3d4b",
   "metadata": {},
   "source": [
    "### Failures"
   ]
  },
  {
   "cell_type": "code",
   "execution_count": null,
   "id": "d1dc38ca",
   "metadata": {},
   "outputs": [],
   "source": [
    "pd.crosstab(full_df['failure'], full_df['resolver_protocol'], margins=True)"
   ]
  },
  {
   "cell_type": "code",
   "execution_count": null,
   "id": "ca4e79fc",
   "metadata": {},
   "outputs": [],
   "source": [
    "pd.crosstab(full_df['failure'], full_df['resolver_protocol'], margins=True, normalize='columns'\n",
    "           ).style.format('{:,.2%}')"
   ]
  },
  {
   "cell_type": "markdown",
   "id": "51525dbc",
   "metadata": {},
   "source": [
    "### EDNS(0) Buffer Sizes"
   ]
  },
  {
   "cell_type": "code",
   "execution_count": null,
   "id": "8fd5498a",
   "metadata": {},
   "outputs": [],
   "source": [
    "ok_df = full_df[full_df['failure'] == 'ok']"
   ]
  },
  {
   "cell_type": "code",
   "execution_count": null,
   "id": "a782fb3a",
   "metadata": {},
   "outputs": [],
   "source": [
    "pd.crosstab(ok_df['edns0_buff_size'], ok_df['resolver_protocol'], margins=True)"
   ]
  },
  {
   "cell_type": "code",
   "execution_count": null,
   "id": "7cb3db37",
   "metadata": {},
   "outputs": [],
   "source": [
    "pd.crosstab(ok_df['edns0_buff_size'], ok_df['resolver_protocol'], margins=True, normalize='columns'\n",
    "           ).style.format('{:,.2%}')"
   ]
  },
  {
   "cell_type": "code",
   "execution_count": null,
   "id": "5cc6452c",
   "metadata": {},
   "outputs": [],
   "source": [
    "# DoUDP: recommended buffer size of 1232 B fulfilled\n",
    "\n",
    "len(ok_df[(ok_df['proto'] == 'UDP') & (ok_df['edns0_buff_size'] == '1232')]) / len(ok_df[ok_df['proto'] == 'UDP']) "
   ]
  },
  {
   "cell_type": "code",
   "execution_count": null,
   "id": "c85dcc18",
   "metadata": {},
   "outputs": [],
   "source": [
    "ok_df[ok_df['resolver_protocol'] == 'Public DoUDP']['edns_udp_size'].astype('float').max()"
   ]
  },
  {
   "cell_type": "code",
   "execution_count": null,
   "id": "9635a0ab",
   "metadata": {},
   "outputs": [],
   "source": [
    "tmp = ok_df[ok_df['resolver_protocol'] == 'Probe DoUDP'\n",
    "           ]['edns_udp_size'].astype('float').value_counts(normalize=True).sort_index(ascending=False)"
   ]
  },
  {
   "cell_type": "code",
   "execution_count": null,
   "id": "81203f6b",
   "metadata": {},
   "outputs": [],
   "source": [
    "tmp[tmp.index > 4096].sum() * 100"
   ]
  },
  {
   "cell_type": "code",
   "execution_count": null,
   "id": "b75a9e04",
   "metadata": {},
   "outputs": [],
   "source": [
    "pd.crosstab(ok_df['edns0_buff_size'], ok_df['resolver_name'], margins=True)"
   ]
  },
  {
   "cell_type": "code",
   "execution_count": null,
   "id": "7262ad08",
   "metadata": {},
   "outputs": [],
   "source": [
    "pd.crosstab(ok_df['edns0_buff_size'], ok_df['resolver_name'], margins=True, normalize='columns'\n",
    "           ).style.format('{:,.2%}')"
   ]
  },
  {
   "cell_type": "markdown",
   "id": "6994f4f1",
   "metadata": {},
   "source": [
    "#### ================================================================================"
   ]
  },
  {
   "cell_type": "markdown",
   "id": "26dd2e73",
   "metadata": {},
   "source": [
    "# Response Time and Failure Rates analysis"
   ]
  },
  {
   "cell_type": "markdown",
   "id": "cfceeceb",
   "metadata": {},
   "source": [
    "## Create sub dataframe"
   ]
  },
  {
   "cell_type": "code",
   "execution_count": null,
   "id": "6df81923",
   "metadata": {},
   "outputs": [],
   "source": [
    "sub_df = full_df[['msm_id', 'probe_id', 'country_code', 'continent_code',\n",
    "             'resolver_name', 'dst_address', 'proto', 'result_rt', 'public_src_ip']]"
   ]
  },
  {
   "cell_type": "code",
   "execution_count": null,
   "id": "77cfd36d",
   "metadata": {},
   "outputs": [],
   "source": [
    "sub_df"
   ]
  },
  {
   "cell_type": "code",
   "execution_count": null,
   "id": "5b3d532c",
   "metadata": {},
   "outputs": [],
   "source": [
    "sub_df['public_src_ip'].isna().sum()\n",
    "# Should be 0"
   ]
  },
  {
   "cell_type": "markdown",
   "id": "7a446afb",
   "metadata": {},
   "source": [
    "### Resolve ASes"
   ]
  },
  {
   "cell_type": "code",
   "execution_count": null,
   "id": "53568698",
   "metadata": {},
   "outputs": [],
   "source": [
    "def getASN(ip):\n",
    "    try:\n",
    "        return asndb.lookup(ip)\n",
    "    except:\n",
    "        return '(None, None)'\n",
    "    \n",
    "def lookupASName(asn):\n",
    "    r = requests.get(\"http://api.asrank.caida.org/v2/restful/asns/\" + str(asn))\n",
    "    json = r.json()\n",
    "    return json[\"data\"][\"asn\"][\"asnName\"]"
   ]
  },
  {
   "cell_type": "code",
   "execution_count": null,
   "id": "b59dcb27",
   "metadata": {},
   "outputs": [],
   "source": [
    "asndb = pyasn.pyasn('pyasn.dat')\n",
    "sub_df['asn'] = sub_df.apply(lambda row : getASN(row['public_src_ip'])[0], axis = 1)"
   ]
  },
  {
   "cell_type": "code",
   "execution_count": null,
   "id": "05da741e",
   "metadata": {},
   "outputs": [],
   "source": [
    "sub_df"
   ]
  },
  {
   "cell_type": "code",
   "execution_count": null,
   "id": "2b6ba508",
   "metadata": {},
   "outputs": [],
   "source": [
    "sub_df['resolver_name'].unique()"
   ]
  },
  {
   "cell_type": "code",
   "execution_count": null,
   "id": "b59b09a1",
   "metadata": {},
   "outputs": [],
   "source": [
    "sub_df['resolver_name'] = sub_df['resolver_name'].replace({'Cloudflare DNS' : 'Cloudflare',\n",
    "                                                           'Comodo Secure DNS' : 'Comodo',\n",
    "                                                           'Google Public DNS' : 'Google',\n",
    "                                                           'Neustar UltraDNS' : 'Neustar',\n",
    "                                                           'Yandex.DNS' : 'Yandex'\n",
    "                                         })"
   ]
  },
  {
   "cell_type": "markdown",
   "id": "6ddc368f",
   "metadata": {},
   "source": [
    "### Distribution of Probes by Continent / Country / ASN"
   ]
  },
  {
   "cell_type": "code",
   "execution_count": null,
   "id": "e1e7060b",
   "metadata": {},
   "outputs": [],
   "source": [
    "probe_list_with_asn = sub_df.drop_duplicates('probe_id')[['probe_id', 'country_code', 'continent_code',\n",
    "                                                          'public_src_ip', 'asn']]"
   ]
  },
  {
   "cell_type": "code",
   "execution_count": null,
   "id": "1daa2dd2",
   "metadata": {},
   "outputs": [],
   "source": [
    "probe_list_with_asn"
   ]
  },
  {
   "cell_type": "code",
   "execution_count": null,
   "id": "0f4caaa5",
   "metadata": {},
   "outputs": [],
   "source": [
    "probe_list_with_asn['continent_code'].value_counts()"
   ]
  },
  {
   "cell_type": "code",
   "execution_count": null,
   "id": "01f8c177",
   "metadata": {},
   "outputs": [],
   "source": [
    "probe_list_with_asn['continent_code'].value_counts(normalize=True)"
   ]
  },
  {
   "cell_type": "code",
   "execution_count": null,
   "id": "1156d9db",
   "metadata": {},
   "outputs": [],
   "source": [
    "probe_dist_by_continent = pd.concat([probe_list_with_asn['continent_code'].value_counts(),\n",
    "                                     probe_list_with_asn['continent_code'].value_counts(normalize=True)], axis=1)\n",
    "probe_dist_by_continent = probe_dist_by_continent.reset_index() \n",
    "probe_dist_by_continent.columns = ['Continent', 'abs', 'rel']\n",
    "probe_dist_by_continent['rel'] = probe_dist_by_continent['rel'].map(\" ({:.2%})\".format)\n",
    "probe_dist_by_continent"
   ]
  },
  {
   "cell_type": "code",
   "execution_count": null,
   "id": "be12f06c",
   "metadata": {},
   "outputs": [],
   "source": [
    "probe_dist_by_continent['Number of Probes'] = probe_dist_by_continent['abs'].astype(str) + probe_dist_by_continent['rel']"
   ]
  },
  {
   "cell_type": "code",
   "execution_count": null,
   "id": "fbd9b23d",
   "metadata": {},
   "outputs": [],
   "source": [
    "print(probe_dist_by_continent[['Continent', 'Number of Probes']].to_latex(index=False))"
   ]
  },
  {
   "cell_type": "code",
   "execution_count": null,
   "id": "c5780709",
   "metadata": {},
   "outputs": [],
   "source": [
    "probe_list_with_asn['country_code'].nunique()"
   ]
  },
  {
   "cell_type": "code",
   "execution_count": null,
   "id": "b9cd9266",
   "metadata": {},
   "outputs": [],
   "source": [
    "probe_list_with_asn['country_code'].value_counts()"
   ]
  },
  {
   "cell_type": "code",
   "execution_count": null,
   "id": "01d89527",
   "metadata": {},
   "outputs": [],
   "source": [
    "probe_list_with_asn['country_code'].value_counts(normalize=True)"
   ]
  },
  {
   "cell_type": "code",
   "execution_count": null,
   "id": "847030fd",
   "metadata": {},
   "outputs": [],
   "source": [
    "probe_list_with_asn['asn'].nunique()"
   ]
  },
  {
   "cell_type": "code",
   "execution_count": null,
   "id": "41c46982",
   "metadata": {},
   "outputs": [],
   "source": [
    "probe_list_with_asn['asn'].value_counts()"
   ]
  },
  {
   "cell_type": "code",
   "execution_count": null,
   "id": "e610bb31",
   "metadata": {},
   "outputs": [],
   "source": [
    "probe_list_with_asn['asn'].value_counts(normalize=True)"
   ]
  },
  {
   "cell_type": "code",
   "execution_count": null,
   "id": "57bedc96",
   "metadata": {},
   "outputs": [],
   "source": [
    "pd.concat([probe_list_with_asn['asn'].value_counts().head(10),\n",
    "           probe_list_with_asn['asn'].value_counts(normalize=True).head(10)], axis=1)"
   ]
  },
  {
   "cell_type": "code",
   "execution_count": null,
   "id": "fa2b16a5",
   "metadata": {},
   "outputs": [],
   "source": [
    "pd.concat([probe_list_with_asn['asn'].value_counts().head(10),\n",
    "           probe_list_with_asn['asn'].value_counts(normalize=True).head(10)], axis=1).sum()"
   ]
  },
  {
   "cell_type": "code",
   "execution_count": null,
   "id": "cd45405d",
   "metadata": {},
   "outputs": [],
   "source": [
    "pd.concat([probe_list_with_asn['asn'].value_counts().tail(-10),\n",
    "           probe_list_with_asn['asn'].value_counts(normalize=True).tail(-10)], axis=1)"
   ]
  },
  {
   "cell_type": "code",
   "execution_count": null,
   "id": "3628ed35",
   "metadata": {},
   "outputs": [],
   "source": [
    "pd.concat([probe_list_with_asn['asn'].value_counts().tail(-10),\n",
    "           probe_list_with_asn['asn'].value_counts(normalize=True).tail(-10)], axis=1).sum()"
   ]
  },
  {
   "cell_type": "code",
   "execution_count": null,
   "id": "4642b943",
   "metadata": {},
   "outputs": [],
   "source": [
    "top_n = 10\n",
    "\n",
    "probe_dist_by_asn = pd.concat([probe_list_with_asn['asn'].value_counts().head(top_n),\n",
    "                               probe_list_with_asn['asn'].value_counts(normalize=True).head(top_n)], axis=1)\n",
    "probe_dist_by_asn = probe_dist_by_asn.reset_index() \n",
    "probe_dist_by_asn.columns = ['ASN', 'abs', 'rel']\n",
    "probe_dist_by_asn['rel'] = probe_dist_by_asn['rel'].map(\" ({:.2%})\".format)\n",
    "probe_dist_by_asn['Number of Probes'] = probe_dist_by_asn['abs'].astype(str) + probe_dist_by_asn['rel']\n",
    "probe_dist_by_asn['ASN'] = 'AS' + probe_dist_by_asn['ASN'].astype(str)"
   ]
  },
  {
   "cell_type": "code",
   "execution_count": null,
   "id": "a03c18e7",
   "metadata": {},
   "outputs": [],
   "source": [
    "print(probe_dist_by_asn[['ASN', 'Number of Probes']].to_latex(index=False))"
   ]
  },
  {
   "cell_type": "markdown",
   "id": "794fcd8b",
   "metadata": {},
   "source": [
    "### Split DoTCP and DoUDP results"
   ]
  },
  {
   "cell_type": "code",
   "execution_count": null,
   "id": "dfc0d904",
   "metadata": {},
   "outputs": [],
   "source": [
    "udp = sub_df[sub_df['proto'] == 'UDP']\n",
    "tcp = sub_df[sub_df['proto'] == 'TCP']"
   ]
  },
  {
   "cell_type": "code",
   "execution_count": null,
   "id": "fdbfd15f",
   "metadata": {},
   "outputs": [],
   "source": [
    "udp"
   ]
  },
  {
   "cell_type": "code",
   "execution_count": null,
   "id": "e71029cb",
   "metadata": {},
   "outputs": [],
   "source": [
    "tcp"
   ]
  },
  {
   "cell_type": "markdown",
   "id": "562f56d0",
   "metadata": {},
   "source": [
    "#### ================================================================================"
   ]
  },
  {
   "cell_type": "markdown",
   "id": "753e93f3",
   "metadata": {},
   "source": [
    "# Response Times"
   ]
  },
  {
   "cell_type": "markdown",
   "id": "87e128c4",
   "metadata": {},
   "source": [
    "## Data Prep"
   ]
  },
  {
   "cell_type": "code",
   "execution_count": null,
   "id": "e69d86ae",
   "metadata": {},
   "outputs": [],
   "source": [
    "udp_rt = udp.dropna(subset=['result_rt'])"
   ]
  },
  {
   "cell_type": "code",
   "execution_count": null,
   "id": "cba81317",
   "metadata": {},
   "outputs": [],
   "source": [
    "tcp_rt = tcp.dropna(subset=['result_rt'])"
   ]
  },
  {
   "cell_type": "code",
   "execution_count": null,
   "id": "258f5ea3",
   "metadata": {},
   "outputs": [],
   "source": [
    "rt_pr_udp = udp_rt.groupby(['probe_id', 'resolver_name', 'dst_address', 'continent_code'],\n",
    "                           as_index=False)['result_rt'].median()\n",
    "\n",
    "rt_pr_tcp = tcp_rt.groupby(['probe_id', 'resolver_name', 'dst_address', 'continent_code'],\n",
    "                           as_index=False)['result_rt'].median()"
   ]
  },
  {
   "cell_type": "code",
   "execution_count": null,
   "id": "46f03c07",
   "metadata": {},
   "outputs": [],
   "source": [
    "rt_pr_udp"
   ]
  },
  {
   "cell_type": "code",
   "execution_count": null,
   "id": "e8c95971",
   "metadata": {},
   "outputs": [],
   "source": [
    "rt_pr_tcp"
   ]
  },
  {
   "cell_type": "code",
   "execution_count": null,
   "id": "c5957570",
   "metadata": {},
   "outputs": [],
   "source": [
    "# inner join will remove all probe resolvers that do not respond over DoTCP\n",
    "rt_merged = rt_pr_udp.merge(rt_pr_tcp, on=['probe_id', 'resolver_name', 'dst_address', 'continent_code'\n",
    "                                          ], suffixes=['_udp', '_tcp'])"
   ]
  },
  {
   "cell_type": "code",
   "execution_count": null,
   "id": "4a53fe8a",
   "metadata": {},
   "outputs": [],
   "source": [
    "rt_merged"
   ]
  },
  {
   "cell_type": "code",
   "execution_count": null,
   "id": "53ba73d5",
   "metadata": {},
   "outputs": [],
   "source": [
    "from ipaddress import ip_address\n",
    "rt_merged['dst_address'].map(lambda x: ip_address(x).is_private).value_counts()"
   ]
  },
  {
   "cell_type": "markdown",
   "id": "25e36af4",
   "metadata": {},
   "source": [
    "### Imports for Plotting"
   ]
  },
  {
   "cell_type": "code",
   "execution_count": null,
   "id": "d8e3aea9",
   "metadata": {},
   "outputs": [],
   "source": [
    "import matplotlib.pyplot as plt\n",
    "import numpy as np\n",
    "import seaborn as sns\n",
    "from matplotlib.colors import SymLogNorm\n",
    "from cycler import cycler"
   ]
  },
  {
   "cell_type": "code",
   "execution_count": null,
   "id": "f8527c27",
   "metadata": {},
   "outputs": [],
   "source": [
    "rt_merged['diff_rt'] = rt_merged['result_rt_tcp'] - rt_merged['result_rt_udp']"
   ]
  },
  {
   "cell_type": "code",
   "execution_count": null,
   "id": "6a484d97",
   "metadata": {},
   "outputs": [],
   "source": [
    "rt_merged"
   ]
  },
  {
   "cell_type": "code",
   "execution_count": null,
   "id": "ef2e4a99",
   "metadata": {},
   "outputs": [],
   "source": [
    "diff_grps = rt_merged.groupby('resolver_name', as_index=False)"
   ]
  },
  {
   "cell_type": "markdown",
   "id": "216d5353",
   "metadata": {},
   "source": [
    "## Plot Regional Heatmaps - Continent part of Figure 2 in the paper"
   ]
  },
  {
   "cell_type": "code",
   "execution_count": null,
   "id": "7d123514",
   "metadata": {},
   "outputs": [],
   "source": [
    "udp_total = rt_merged.groupby('resolver_name', as_index=False)['result_rt_udp'].median()\n",
    "udp_total['continent_code'] = 'Total'\n",
    "udp_total = udp_total[['resolver_name', 'continent_code', 'result_rt_udp']]"
   ]
  },
  {
   "cell_type": "code",
   "execution_count": null,
   "id": "a34b4f13",
   "metadata": {},
   "outputs": [],
   "source": [
    "udp_public_resolver = []\n",
    "udp_public_resolver.insert(0, {'resolver_name': 'Public Resolver', 'continent_code': 'Total', 'result_rt_udp': rt_merged['result_rt_udp'].median()})\n",
    "udp_total = pd.concat([pd.DataFrame(udp_public_resolver), udp_total], ignore_index=True)"
   ]
  },
  {
   "cell_type": "code",
   "execution_count": null,
   "id": "03f860a4",
   "metadata": {},
   "outputs": [],
   "source": [
    "udp_total"
   ]
  },
  {
   "cell_type": "code",
   "execution_count": null,
   "id": "3c29643c",
   "metadata": {},
   "outputs": [],
   "source": [
    "tcp_total = rt_merged.groupby('resolver_name', as_index=False)['result_rt_tcp'].median()\n",
    "tcp_total['continent_code'] = 'Total'\n",
    "tcp_total = tcp_total[['resolver_name', 'continent_code', 'result_rt_tcp']]"
   ]
  },
  {
   "cell_type": "code",
   "execution_count": null,
   "id": "0b1f6b51",
   "metadata": {},
   "outputs": [],
   "source": [
    "tcp_public_resolver = []\n",
    "tcp_public_resolver.insert(0, {'resolver_name': 'Public Resolver', 'continent_code': 'Total', 'result_rt_tcp': rt_merged['result_rt_tcp'].median()})\n",
    "tcp_total = pd.concat([pd.DataFrame(tcp_public_resolver), tcp_total], ignore_index=True)"
   ]
  },
  {
   "cell_type": "code",
   "execution_count": null,
   "id": "0e875199",
   "metadata": {},
   "outputs": [],
   "source": [
    "tcp_total"
   ]
  },
  {
   "cell_type": "code",
   "execution_count": null,
   "id": "a3676bf9",
   "metadata": {},
   "outputs": [],
   "source": [
    "udp_heatmap = rt_merged.groupby(['resolver_name', 'continent_code'], as_index=False\n",
    "                               )['result_rt_udp'].median().append(udp_total)\n",
    "udp_heatmap_public_resolver = rt_merged.groupby(['continent_code'], as_index=False\n",
    "                               )['result_rt_udp'].median()\n",
    "udp_heatmap_public_resolver['resolver_name'] = 'Public Resolver'\n",
    "udp_heatmap = pd.concat([udp_heatmap_public_resolver, udp_heatmap], ignore_index=True)\n",
    "udp_heatmap = pd.crosstab(udp_heatmap['resolver_name'], udp_heatmap['continent_code'],\n",
    "                          values=udp_heatmap['result_rt_udp'], aggfunc='median'\n",
    "                         )"
   ]
  },
  {
   "cell_type": "code",
   "execution_count": null,
   "id": "3c442aa3",
   "metadata": {},
   "outputs": [],
   "source": [
    "tcp_heatmap = rt_merged.groupby(['resolver_name', 'continent_code'], as_index=False\n",
    "                               )['result_rt_tcp'].median().append(tcp_total)\n",
    "tcp_heatmap_public_resolver = rt_merged.groupby(['continent_code'], as_index=False\n",
    "                               )['result_rt_tcp'].median()\n",
    "tcp_heatmap_public_resolver['resolver_name'] = 'Public Resolver'\n",
    "tcp_heatmap = pd.concat([tcp_heatmap_public_resolver, tcp_heatmap], ignore_index=True)\n",
    "tcp_heatmap = pd.crosstab(tcp_heatmap['resolver_name'], tcp_heatmap['continent_code'],\n",
    "                          values=tcp_heatmap['result_rt_tcp'], aggfunc='median'\n",
    "                         )"
   ]
  },
  {
   "cell_type": "code",
   "execution_count": null,
   "id": "46d91214",
   "metadata": {},
   "outputs": [],
   "source": [
    "# move Probe Resolver to the bottom and Public Resolver to the top\n",
    "udp_heatmap = udp_heatmap[udp_heatmap.index != 'Probe Resolver'].append(udp_heatmap.loc['Probe Resolver'])\n",
    "udp_heatmap_public_resolver = udp_heatmap[udp_heatmap.index == 'Public Resolver']\n",
    "udp_heatmap_tmp = udp_heatmap[udp_heatmap.index != 'Public Resolver']\n",
    "udp_heatmap = udp_heatmap_public_resolver.append(udp_heatmap_tmp)\n",
    "\n",
    "tcp_heatmap = tcp_heatmap[tcp_heatmap.index != 'Probe Resolver'].append(tcp_heatmap.loc['Probe Resolver'])\n",
    "tcp_heatmap_public_resolver = tcp_heatmap[tcp_heatmap.index == 'Public Resolver']\n",
    "tcp_heatmap_tmp = tcp_heatmap[tcp_heatmap.index != 'Public Resolver']\n",
    "tcp_heatmap = tcp_heatmap_public_resolver.append(tcp_heatmap_tmp)"
   ]
  },
  {
   "cell_type": "code",
   "execution_count": null,
   "id": "ebb55e5f",
   "metadata": {},
   "outputs": [],
   "source": [
    "udp_heatmap"
   ]
  },
  {
   "cell_type": "code",
   "execution_count": null,
   "id": "1550fb68",
   "metadata": {},
   "outputs": [],
   "source": [
    "tcp_heatmap"
   ]
  },
  {
   "cell_type": "code",
   "execution_count": null,
   "id": "f6ebefcf",
   "metadata": {},
   "outputs": [],
   "source": [
    "((tcp_heatmap['Total'] / udp_heatmap['Total']) -1 ) * 100  # relative increase from DoUDP to DoTCP"
   ]
  },
  {
   "cell_type": "code",
   "execution_count": null,
   "id": "d032e55e",
   "metadata": {},
   "outputs": [],
   "source": [
    "diff_heatmap = tcp_heatmap - udp_heatmap"
   ]
  },
  {
   "cell_type": "code",
   "execution_count": null,
   "id": "e8d6131d",
   "metadata": {},
   "outputs": [],
   "source": [
    "diff_heatmap"
   ]
  },
  {
   "cell_type": "code",
   "execution_count": null,
   "id": "10bb7a4c",
   "metadata": {},
   "outputs": [],
   "source": [
    "fig, (ax1, ax2) = plt.subplots(nrows=2, figsize=(6, 6.5), gridspec_kw = {'wspace':0, 'hspace':0.15}, sharex=True)\n",
    "ax1 = sns.heatmap(tcp_heatmap,\n",
    "            annot=True,\n",
    "            cmap='RdYlGn_r', #'RdYlBu_r',  # \"RdYlGn_r\",\n",
    "            cbar_kws={'label' : 'Response Time [ms]'},\n",
    "            ax=ax1,\n",
    "            fmt='.1f',\n",
    "            vmin=0,\n",
    "            vmax=600,\n",
    "#             xticklabels=False\n",
    "           )\n",
    "ax1.set_xlabel('')\n",
    "ax1.set_ylabel('')\n",
    "\n",
    "ax2 = sns.heatmap(diff_heatmap,\n",
    "            annot=True,\n",
    "            cmap='RdBu_r', #\"RdYlGn_r\",\n",
    "            cbar_kws={'label' : 'Response Time Difference [ms]'},\n",
    "            ax=ax2,\n",
    "            fmt='.1f',\n",
    "            vmin=-200,\n",
    "            vmax=200,\n",
    "           )\n",
    "ax2.set_xlabel('')\n",
    "ax2.set_ylabel('')\n",
    "\n",
    "fig.show()\n",
    "fig.savefig('diff-rt-heatmap-CC-merged.pdf', bbox_inches='tight')"
   ]
  },
  {
   "cell_type": "markdown",
   "id": "de792b11",
   "metadata": {},
   "source": [
    "## Plot ASN Heatmaps - ASN part of Figure 2 in the paper"
   ]
  },
  {
   "cell_type": "markdown",
   "id": "ff746fb6",
   "metadata": {},
   "source": [
    "### Data Prep"
   ]
  },
  {
   "cell_type": "code",
   "execution_count": null,
   "id": "677cbcd2",
   "metadata": {},
   "outputs": [],
   "source": [
    "rt_pr_asn_udp = udp_rt.groupby(['probe_id', 'resolver_name', 'dst_address', 'asn'],\n",
    "                           as_index=False)['result_rt'].median()\n",
    "\n",
    "rt_pr_asn_tcp = tcp_rt.groupby(['probe_id', 'resolver_name', 'dst_address', 'asn'],\n",
    "                           as_index=False)['result_rt'].median()"
   ]
  },
  {
   "cell_type": "code",
   "execution_count": null,
   "id": "fe783d10",
   "metadata": {},
   "outputs": [],
   "source": [
    "rt_pr_asn_udp"
   ]
  },
  {
   "cell_type": "code",
   "execution_count": null,
   "id": "4941eee8",
   "metadata": {},
   "outputs": [],
   "source": [
    "rt_pr_asn_tcp"
   ]
  },
  {
   "cell_type": "code",
   "execution_count": null,
   "id": "c9eead51",
   "metadata": {},
   "outputs": [],
   "source": [
    "# inner join will remove all probe resolvers that do not respond over DoTCP\n",
    "rt_asn_merged = rt_pr_asn_udp.merge(rt_pr_asn_tcp, on=['probe_id', 'resolver_name', 'dst_address', 'asn'\n",
    "                                          ], suffixes=['_udp', '_tcp'])"
   ]
  },
  {
   "cell_type": "code",
   "execution_count": null,
   "id": "79071b1e",
   "metadata": {
    "scrolled": true
   },
   "outputs": [],
   "source": [
    "rt_asn_merged"
   ]
  },
  {
   "cell_type": "markdown",
   "id": "af291a29",
   "metadata": {},
   "source": [
    "### Get AS with the Most Probes"
   ]
  },
  {
   "cell_type": "code",
   "execution_count": null,
   "id": "7f974ee8",
   "metadata": {},
   "outputs": [],
   "source": [
    "probe_ids = rt_asn_merged.drop_duplicates(subset=['probe_id'])\n",
    "probe_ids = probe_ids[['probe_id', 'asn']]\n",
    "probe_ids"
   ]
  },
  {
   "cell_type": "code",
   "execution_count": null,
   "id": "b6d41f5b",
   "metadata": {},
   "outputs": [],
   "source": [
    "probes_per_asn = probe_ids.groupby('asn', as_index = False).size()\n",
    "probes_per_asn_top_10 = probes_per_asn.nlargest(10, 'size')\n",
    "probes_per_asn_top_10['asn_name'] = probes_per_asn_top_10.apply(lambda row : lookupASName(row['asn']), axis = 1)\n",
    "probes_per_asn_top_10.at[32, 'asn_name'] = 'Orange S.A.'\n",
    "probes_per_asn_top_10"
   ]
  },
  {
   "cell_type": "markdown",
   "id": "a99ae1d0",
   "metadata": {},
   "source": [
    "### Filter RTs to Top 10 AS"
   ]
  },
  {
   "cell_type": "code",
   "execution_count": null,
   "id": "662a9ff2",
   "metadata": {},
   "outputs": [],
   "source": [
    "rt_asn_merged_top_10 = rt_asn_merged[rt_asn_merged['asn'].isin(probes_per_asn_top_10['asn'])]\n",
    "rt_asn_merged_top_10"
   ]
  },
  {
   "cell_type": "code",
   "execution_count": null,
   "id": "2773fdf5",
   "metadata": {},
   "outputs": [],
   "source": [
    "rt_asn_merged_top_10 = rt_asn_merged_top_10.merge(probes_per_asn_top_10, how='left', left_on='asn', right_on='asn')\n",
    "rt_asn_merged_top_10[(rt_asn_merged_top_10['asn_name'] == 'Orange S.A.') & (rt_asn_merged_top_10['resolver_name'] == 'OpenNIC')]\n",
    "\n",
    "# Orange S.A. on openNIC is empty, which is expected"
   ]
  },
  {
   "cell_type": "code",
   "execution_count": null,
   "id": "c8c4911f",
   "metadata": {},
   "outputs": [],
   "source": [
    "udp_asn_heatmap = rt_asn_merged_top_10.groupby(['resolver_name', 'asn_name'], as_index=False\n",
    "                               )['result_rt_udp'].median()\n",
    "udp_asn_heatmap_public_resolver = rt_asn_merged_top_10.groupby(['asn_name'], as_index=False\n",
    "                               )['result_rt_udp'].median()\n",
    "udp_asn_heatmap_public_resolver['resolver_name'] = 'Public Resolver'\n",
    "udp_asn_heatmap = pd.concat([udp_asn_heatmap_public_resolver, udp_asn_heatmap], ignore_index=True)\n",
    "udp_asn_heatmap = pd.crosstab(udp_asn_heatmap['resolver_name'], udp_asn_heatmap['asn_name'],\n",
    "                          values=udp_asn_heatmap['result_rt_udp'], aggfunc='median'\n",
    "                         )"
   ]
  },
  {
   "cell_type": "code",
   "execution_count": null,
   "id": "bd909500",
   "metadata": {},
   "outputs": [],
   "source": [
    "tcp_asn_heatmap = rt_asn_merged_top_10.groupby(['resolver_name', 'asn_name'], as_index=False\n",
    "                               )['result_rt_tcp'].median()\n",
    "tcp_asn_heatmap_public_resolver = rt_asn_merged_top_10.groupby(['asn_name'], as_index=False\n",
    "                               )['result_rt_tcp'].median()\n",
    "tcp_asn_heatmap_public_resolver['resolver_name'] = 'Public Resolver'\n",
    "tcp_asn_heatmap = pd.concat([tcp_asn_heatmap_public_resolver, tcp_asn_heatmap], ignore_index=True)\n",
    "tcp_asn_heatmap = pd.crosstab(tcp_asn_heatmap['resolver_name'], tcp_asn_heatmap['asn_name'],\n",
    "                          values=tcp_asn_heatmap['result_rt_tcp'], aggfunc='median'\n",
    "                         )"
   ]
  },
  {
   "cell_type": "code",
   "execution_count": null,
   "id": "5ad4b3be",
   "metadata": {},
   "outputs": [],
   "source": [
    "# move Probe Resolver to the bottom and Public Resolver to the top\n",
    "udp_asn_heatmap = udp_asn_heatmap[udp_asn_heatmap.index != 'Probe Resolver'].append(udp_asn_heatmap.loc['Probe Resolver'])\n",
    "udp_asn_heatmap_public_resolver = udp_asn_heatmap[udp_asn_heatmap.index == 'Public Resolver']\n",
    "udp_asn_heatmap_tmp = udp_asn_heatmap[udp_asn_heatmap.index != 'Public Resolver']\n",
    "udp_asn_heatmap = udp_asn_heatmap_public_resolver.append(udp_asn_heatmap_tmp)\n",
    "\n",
    "tcp_asn_heatmap = tcp_asn_heatmap[tcp_asn_heatmap.index != 'Probe Resolver'].append(tcp_asn_heatmap.loc['Probe Resolver'])\n",
    "tcp_asn_heatmap_public_resolver = tcp_asn_heatmap[tcp_asn_heatmap.index == 'Public Resolver']\n",
    "tcp_asn_heatmap_tmp = tcp_asn_heatmap[tcp_asn_heatmap.index != 'Public Resolver']\n",
    "tcp_asn_heatmap = tcp_asn_heatmap_public_resolver.append(tcp_asn_heatmap_tmp)"
   ]
  },
  {
   "cell_type": "code",
   "execution_count": null,
   "id": "91620dac",
   "metadata": {},
   "outputs": [],
   "source": [
    "udp_asn_heatmap"
   ]
  },
  {
   "cell_type": "code",
   "execution_count": null,
   "id": "d6138e68",
   "metadata": {},
   "outputs": [],
   "source": [
    "tcp_asn_heatmap"
   ]
  },
  {
   "cell_type": "code",
   "execution_count": null,
   "id": "e0f14b51",
   "metadata": {},
   "outputs": [],
   "source": [
    "diff_asn_heatmap = tcp_asn_heatmap - udp_asn_heatmap"
   ]
  },
  {
   "cell_type": "code",
   "execution_count": null,
   "id": "b620b3b0",
   "metadata": {},
   "outputs": [],
   "source": [
    "diff_asn_heatmap"
   ]
  },
  {
   "cell_type": "code",
   "execution_count": null,
   "id": "36456cf4",
   "metadata": {},
   "outputs": [],
   "source": [
    "probes_per_asn_top_10['asn_name'].unique()"
   ]
  },
  {
   "cell_type": "code",
   "execution_count": null,
   "id": "37c6c65c",
   "metadata": {
    "scrolled": false
   },
   "outputs": [],
   "source": [
    "fig, (ax1, ax2) = plt.subplots(nrows=2, figsize=(8, 6.5), gridspec_kw = {'wspace':0, 'hspace':0.15}, sharex=True)\n",
    "ax1 = sns.heatmap(tcp_asn_heatmap[probes_per_asn_top_10['asn_name'].unique()],\n",
    "            annot=True,\n",
    "            cmap='RdYlGn_r', #'RdYlBu_r',  # \"RdYlGn_r\",\n",
    "            cbar_kws={'label' : 'Response Time [ms]'},\n",
    "            ax=ax1,\n",
    "            fmt='.1f',\n",
    "            vmin=0,\n",
    "            vmax=300,\n",
    "#             xticklabels=False\n",
    "           )\n",
    "ax1.set_xlabel('')\n",
    "ax1.set_ylabel('')\n",
    "\n",
    "ax2 = sns.heatmap(diff_asn_heatmap[probes_per_asn_top_10['asn_name'].unique()],\n",
    "            annot=True,\n",
    "            cmap='RdBu_r', #\"RdYlGn_r\",\n",
    "            cbar_kws={'label' : 'Response Time Difference [ms]'},\n",
    "            ax=ax2,\n",
    "            fmt='.1f',\n",
    "            vmin=-200,\n",
    "            vmax=200,\n",
    "           )\n",
    "ax2.set_xlabel('')\n",
    "ax2.set_ylabel('')\n",
    "\n",
    "fig.show()\n",
    "fig.savefig('diff-rt-heatmap-ASN-merged.pdf', bbox_inches='tight')"
   ]
  },
  {
   "cell_type": "markdown",
   "id": "24f84ed8",
   "metadata": {},
   "source": [
    "### Distribution of Probes by Continent / Country / ASN"
   ]
  },
  {
   "cell_type": "code",
   "execution_count": null,
   "id": "a97eeac2",
   "metadata": {},
   "outputs": [],
   "source": [
    "probe_list_with_asn = sub_df.drop_duplicates('probe_id')[['probe_id', 'country_code', 'continent_code',\n",
    "                                                          'public_src_ip', 'asn']]"
   ]
  },
  {
   "cell_type": "code",
   "execution_count": null,
   "id": "815a7b8a",
   "metadata": {},
   "outputs": [],
   "source": [
    "probe_list_with_asn"
   ]
  },
  {
   "cell_type": "code",
   "execution_count": null,
   "id": "1826094e",
   "metadata": {},
   "outputs": [],
   "source": [
    "probe_list_with_asn['continent_code'].value_counts()"
   ]
  },
  {
   "cell_type": "code",
   "execution_count": null,
   "id": "32291e0d",
   "metadata": {},
   "outputs": [],
   "source": [
    "probe_list_with_asn['continent_code'].value_counts(normalize=True)"
   ]
  },
  {
   "cell_type": "code",
   "execution_count": null,
   "id": "d11efb35",
   "metadata": {},
   "outputs": [],
   "source": [
    "probe_dist_by_continent = pd.concat([probe_list_with_asn['continent_code'].value_counts(),\n",
    "                                     probe_list_with_asn['continent_code'].value_counts(normalize=True)], axis=1)\n",
    "probe_dist_by_continent = probe_dist_by_continent.reset_index() \n",
    "probe_dist_by_continent.columns = ['Continent', 'abs', 'rel']\n",
    "probe_dist_by_continent['rel'] = probe_dist_by_continent['rel'].map(\" ({:.2%})\".format)"
   ]
  },
  {
   "cell_type": "code",
   "execution_count": null,
   "id": "99ac772d",
   "metadata": {},
   "outputs": [],
   "source": [
    "probe_dist_by_continent['Number of Probes'] = probe_dist_by_continent['abs'].astype(str) + probe_dist_by_continent['rel']"
   ]
  },
  {
   "cell_type": "code",
   "execution_count": null,
   "id": "ea98d31f",
   "metadata": {},
   "outputs": [],
   "source": [
    "print(probe_dist_by_continent[['Continent', 'Number of Probes']].to_latex(index=False))"
   ]
  },
  {
   "cell_type": "code",
   "execution_count": null,
   "id": "afce3de7",
   "metadata": {},
   "outputs": [],
   "source": [
    "probe_list_with_asn['country_code'].nunique()"
   ]
  },
  {
   "cell_type": "code",
   "execution_count": null,
   "id": "2809aec9",
   "metadata": {},
   "outputs": [],
   "source": [
    "probe_list_with_asn['country_code'].value_counts()"
   ]
  },
  {
   "cell_type": "code",
   "execution_count": null,
   "id": "4d399793",
   "metadata": {},
   "outputs": [],
   "source": [
    "probe_list_with_asn['country_code'].value_counts(normalize=True)"
   ]
  },
  {
   "cell_type": "code",
   "execution_count": null,
   "id": "f5d75526",
   "metadata": {},
   "outputs": [],
   "source": [
    "probe_list_with_asn['asn'].nunique()"
   ]
  },
  {
   "cell_type": "code",
   "execution_count": null,
   "id": "a329ee1e",
   "metadata": {},
   "outputs": [],
   "source": [
    "probe_list_with_asn['asn'].value_counts()"
   ]
  },
  {
   "cell_type": "code",
   "execution_count": null,
   "id": "12a60dc8",
   "metadata": {},
   "outputs": [],
   "source": [
    "probe_list_with_asn['asn'].value_counts(normalize=True)"
   ]
  },
  {
   "cell_type": "code",
   "execution_count": null,
   "id": "40cf1abe",
   "metadata": {},
   "outputs": [],
   "source": [
    "top_n = 10"
   ]
  },
  {
   "cell_type": "code",
   "execution_count": null,
   "id": "ec1c79bf",
   "metadata": {},
   "outputs": [],
   "source": [
    "pd.concat([probe_list_with_asn['asn'].value_counts().head(top_n),\n",
    "           probe_list_with_asn['asn'].value_counts(normalize=True).head(top_n)], axis=1)"
   ]
  },
  {
   "cell_type": "code",
   "execution_count": null,
   "id": "c8206579",
   "metadata": {},
   "outputs": [],
   "source": [
    "probe_list_with_asn['asn'].value_counts(normalize=True).head(top_n).sum()"
   ]
  },
  {
   "cell_type": "code",
   "execution_count": null,
   "id": "ee8461f6",
   "metadata": {},
   "outputs": [],
   "source": [
    "probe_dist_by_asn = pd.concat([probe_list_with_asn['asn'].value_counts().head(top_n),\n",
    "                               probe_list_with_asn['asn'].value_counts(normalize=True).head(top_n)], axis=1)\n",
    "probe_dist_by_asn = probe_dist_by_asn.reset_index() \n",
    "probe_dist_by_asn.columns = ['ASN', 'abs', 'rel']\n",
    "probe_dist_by_asn['rel'] = probe_dist_by_asn['rel'].map(\" ({:.2%})\".format)\n",
    "probe_dist_by_asn['Number of Probes'] = probe_dist_by_asn['abs'].astype(str) + probe_dist_by_asn['rel']\n",
    "probe_dist_by_asn['AS'] = probe_dist_by_asn.apply(lambda row : lookupASName(row['ASN']), axis=1)\n",
    "probe_dist_by_asn['ASN'] = 'AS' + probe_dist_by_asn['ASN'].astype(str)"
   ]
  },
  {
   "cell_type": "code",
   "execution_count": null,
   "id": "8474368c",
   "metadata": {},
   "outputs": [],
   "source": [
    "print(probe_dist_by_asn[['ASN', 'AS', 'Number of Probes']].to_latex(index=False))"
   ]
  },
  {
   "cell_type": "markdown",
   "id": "1090889c",
   "metadata": {},
   "source": [
    "#### ================================================================================"
   ]
  },
  {
   "cell_type": "markdown",
   "id": "e8ac74c6",
   "metadata": {},
   "source": [
    "# Failure Rates"
   ]
  },
  {
   "cell_type": "markdown",
   "id": "2ca6c3db",
   "metadata": {},
   "source": [
    "### Overall Failure Rates"
   ]
  },
  {
   "cell_type": "code",
   "execution_count": null,
   "id": "5d9500c2",
   "metadata": {},
   "outputs": [],
   "source": [
    "udp_prbres = udp[udp['resolver_name'] == 'Probe Resolver']"
   ]
  },
  {
   "cell_type": "code",
   "execution_count": null,
   "id": "9b636e28",
   "metadata": {},
   "outputs": [],
   "source": [
    "len(udp_prbres[udp_prbres['result_rt'].isna()]) / len(udp_prbres)"
   ]
  },
  {
   "cell_type": "code",
   "execution_count": null,
   "id": "12627935",
   "metadata": {},
   "outputs": [],
   "source": [
    "udp_pubres = udp[udp['resolver_name'] != 'Probe Resolver']"
   ]
  },
  {
   "cell_type": "code",
   "execution_count": null,
   "id": "bbb30c54",
   "metadata": {},
   "outputs": [],
   "source": [
    "len(udp_pubres[udp_pubres['result_rt'].isna()]) / len(udp_pubres)"
   ]
  },
  {
   "cell_type": "code",
   "execution_count": null,
   "id": "7112e37c",
   "metadata": {},
   "outputs": [],
   "source": [
    "tcp_prbres = tcp[tcp['resolver_name'] == 'Probe Resolver']"
   ]
  },
  {
   "cell_type": "code",
   "execution_count": null,
   "id": "26ceb4e0",
   "metadata": {},
   "outputs": [],
   "source": [
    "len(tcp_prbres[tcp_prbres['result_rt'].isna()]) / len(tcp_prbres)"
   ]
  },
  {
   "cell_type": "code",
   "execution_count": null,
   "id": "4bf79544",
   "metadata": {},
   "outputs": [],
   "source": [
    "tcp_pubres = tcp[tcp['resolver_name'] != 'Probe Resolver']"
   ]
  },
  {
   "cell_type": "code",
   "execution_count": null,
   "id": "c913602f",
   "metadata": {},
   "outputs": [],
   "source": [
    "len(tcp_pubres[tcp_pubres['result_rt'].isna()]) / len(tcp_pubres)"
   ]
  },
  {
   "cell_type": "markdown",
   "id": "37d3cb12",
   "metadata": {},
   "source": [
    "## Plot Regional Heatmaps - continent part of Figure 1 in the paper"
   ]
  },
  {
   "cell_type": "markdown",
   "id": "da73b050",
   "metadata": {},
   "source": [
    "### Calculcated Failure Rates for UDP Heatmap"
   ]
  },
  {
   "cell_type": "markdown",
   "id": "d427fb07",
   "metadata": {},
   "source": [
    "#### Per Continent (\"Total\" column)"
   ]
  },
  {
   "cell_type": "code",
   "execution_count": null,
   "id": "887d1a96",
   "metadata": {},
   "outputs": [],
   "source": [
    "udp_pubres"
   ]
  },
  {
   "cell_type": "code",
   "execution_count": null,
   "id": "4a5f4250",
   "metadata": {},
   "outputs": [],
   "source": [
    "tmp_1 = udp_pubres.groupby('resolver_name').size().reset_index().rename(columns={0 : 'num_msm'})\n",
    "tmp_2 = udp_pubres[udp_pubres['result_rt'].isna()\n",
    "                  ].groupby('resolver_name').size().reset_index().rename(columns={0 : 'num_failures'})\n",
    "tmp_3 = []\n",
    "tmp_3.insert(0, {'resolver_name': 'Public Resolver', 'num_msm': len(udp_pubres), 'num_failures': len(udp_pubres[udp_pubres['result_rt'].isna()])})\n",
    "\n",
    "udp_frates_all_conts = tmp_1.merge(tmp_2, on=['resolver_name'], how='right')\n",
    "udp_frates_all_conts = udp_frates_all_conts.append(pd.DataFrame(tmp_3))\n",
    "\n",
    "udp_frates_all_conts['f_rate'] = udp_frates_all_conts['num_failures'] / udp_frates_all_conts['num_msm'] \n",
    "udp_frates_all_conts['continent_code'] = 'Total'"
   ]
  },
  {
   "cell_type": "code",
   "execution_count": null,
   "id": "30fec365",
   "metadata": {},
   "outputs": [],
   "source": [
    "udp_frates_all_conts"
   ]
  },
  {
   "cell_type": "markdown",
   "id": "effb121e",
   "metadata": {},
   "source": [
    "#### Per Resolver and Continent"
   ]
  },
  {
   "cell_type": "code",
   "execution_count": null,
   "id": "7098418b",
   "metadata": {
    "scrolled": true
   },
   "outputs": [],
   "source": [
    "udp_num_msm_by_cont = udp_pubres.groupby(['resolver_name' , 'continent_code']\n",
    "                                        ).size().reset_index().rename(columns={0 : 'num_msm'})\n",
    "udp_num_msm_by_cont_public_resolver = udp_pubres.groupby(['continent_code']\n",
    "                                        ).size().reset_index().rename(columns={0 : 'num_msm'})\n",
    "udp_num_msm_by_cont_public_resolver['resolver_name'] = 'Public Resolver'\n",
    "udp_num_msm_by_cont = udp_num_msm_by_cont.append(udp_num_msm_by_cont_public_resolver)\n",
    "udp_num_msm_by_cont"
   ]
  },
  {
   "cell_type": "code",
   "execution_count": null,
   "id": "317dd953",
   "metadata": {
    "scrolled": true
   },
   "outputs": [],
   "source": [
    "udp_num_fail_by_cont = udp_pubres[udp_pubres['result_rt'].isna()\n",
    "                                 ].groupby(['resolver_name' , 'continent_code']\n",
    "                                          ).size().reset_index().rename(columns={0 : 'num_failures'})\n",
    "udp_num_fail_by_cont_public_resolver = udp_pubres[udp_pubres['result_rt'].isna()\n",
    "                                 ].groupby(['continent_code']\n",
    "                                          ).size().reset_index().rename(columns={0 : 'num_failures'})\n",
    "udp_num_fail_by_cont_public_resolver['resolver_name'] = 'Public Resolver'\n",
    "udp_num_fail_by_cont = udp_num_fail_by_cont.append(udp_num_fail_by_cont_public_resolver)\n",
    "udp_num_fail_by_cont"
   ]
  },
  {
   "cell_type": "code",
   "execution_count": null,
   "id": "8faa20a6",
   "metadata": {},
   "outputs": [],
   "source": [
    "udp_fail_rates_by_cont = udp_num_fail_by_cont.merge(udp_num_msm_by_cont,\n",
    "                                                    on=['resolver_name', 'continent_code'], how='right')\n",
    "udp_fail_rates_by_cont['f_rate'] = udp_fail_rates_by_cont['num_failures'] / udp_fail_rates_by_cont['num_msm'] "
   ]
  },
  {
   "cell_type": "code",
   "execution_count": null,
   "id": "ca823134",
   "metadata": {
    "scrolled": true
   },
   "outputs": [],
   "source": [
    "udp_fail_rates_by_cont"
   ]
  },
  {
   "cell_type": "code",
   "execution_count": null,
   "id": "c535e370",
   "metadata": {},
   "outputs": [],
   "source": [
    "udp_fail_rates_by_cont[udp_fail_rates_by_cont['resolver_name'] != 'Public Resolver']['num_failures'].sum()"
   ]
  },
  {
   "cell_type": "code",
   "execution_count": null,
   "id": "3365693b",
   "metadata": {},
   "outputs": [],
   "source": [
    "udp_fail_rates_by_cont[udp_fail_rates_by_cont['resolver_name'] != 'Public Resolver']['num_msm'].sum()"
   ]
  },
  {
   "cell_type": "code",
   "execution_count": null,
   "id": "89fe7949",
   "metadata": {},
   "outputs": [],
   "source": [
    "udp_fail_rates_by_cont['num_failures'].sum()/udp_fail_rates_by_cont['num_msm'].sum()"
   ]
  },
  {
   "cell_type": "markdown",
   "id": "b1c7cbce",
   "metadata": {},
   "source": [
    "#### Probe Resolver Failure Rates"
   ]
  },
  {
   "cell_type": "code",
   "execution_count": null,
   "id": "624bc9de",
   "metadata": {},
   "outputs": [],
   "source": [
    "tmp_1 = udp_prbres[udp_prbres['result_rt'].isna()\n",
    "                  ].groupby(['resolver_name' , 'continent_code']\n",
    "                           ).size().reset_index().rename(columns={0 : 'num_failures'})\n",
    "\n",
    "tmp_2 = udp_prbres.groupby(['resolver_name' , 'continent_code']\n",
    "                          ).size().reset_index().rename(columns={0 : 'num_msm'})\n",
    "\n",
    "udp_fail_rates_by_cont_prb = tmp_1.merge(tmp_2, on=['resolver_name', 'continent_code'], how='right')\n",
    "\n",
    "# manually adding \"total column\" over all continents for probe resolvers\n",
    "udp_fail_rates_by_cont_prb.loc[len(udp_fail_rates_by_cont_prb)\n",
    "                              ] = ['Probe Resolver', 'Total',\n",
    "                                   udp_fail_rates_by_cont_prb['num_failures'].sum(),\n",
    "                                   udp_fail_rates_by_cont_prb['num_msm'].sum()]\n",
    "\n",
    "udp_fail_rates_by_cont_prb['f_rate'] = udp_fail_rates_by_cont_prb['num_failures'] / udp_fail_rates_by_cont_prb['num_msm'] "
   ]
  },
  {
   "cell_type": "code",
   "execution_count": null,
   "id": "48b6e632",
   "metadata": {},
   "outputs": [],
   "source": [
    "udp_fail_rates_by_cont_prb"
   ]
  },
  {
   "cell_type": "markdown",
   "id": "a45fe63c",
   "metadata": {},
   "source": [
    "#### Putting everything together"
   ]
  },
  {
   "cell_type": "code",
   "execution_count": null,
   "id": "f7e45392",
   "metadata": {},
   "outputs": [],
   "source": [
    "udp_fail_rates_by_cont_merged = pd.concat([udp_fail_rates_by_cont,\n",
    "                                           udp_frates_all_conts,\n",
    "                                           udp_fail_rates_by_cont_prb])"
   ]
  },
  {
   "cell_type": "code",
   "execution_count": null,
   "id": "a07bca13",
   "metadata": {},
   "outputs": [],
   "source": [
    "udp_fail_rates_by_cont_merged"
   ]
  },
  {
   "cell_type": "code",
   "execution_count": null,
   "id": "dfbe24fb",
   "metadata": {},
   "outputs": [],
   "source": [
    "udp_crosstab_fail_rates_by_cont = pd.crosstab(udp_fail_rates_by_cont_merged['resolver_name'],\n",
    "                                              udp_fail_rates_by_cont_merged['continent_code'],\n",
    "                                              values=udp_fail_rates_by_cont_merged['f_rate'], aggfunc='median'\n",
    "                                             ).round(3)\n",
    "udp_crosstab_fail_rates_by_cont = udp_crosstab_fail_rates_by_cont.reindex(['Public Resolver','CleanBrowsing', 'Cloudflare',\n",
    "                                                                           'Comodo', 'Google', 'Neustar',\n",
    "                                                                           'OpenDNS', 'OpenNIC', 'Quad9',\n",
    "                                                                           'UncensoredDNS', 'Yandex',\n",
    "                                                                           'Probe Resolver'])"
   ]
  },
  {
   "cell_type": "code",
   "execution_count": null,
   "id": "52290c14",
   "metadata": {},
   "outputs": [],
   "source": [
    "udp_crosstab_fail_rates_by_cont"
   ]
  },
  {
   "cell_type": "markdown",
   "id": "a44dbea3",
   "metadata": {},
   "source": [
    "### Calculcated Failure Rates for TCP Heatmap"
   ]
  },
  {
   "cell_type": "markdown",
   "id": "646e85f1",
   "metadata": {},
   "source": [
    "#### Per Continent (\"Total\" column)"
   ]
  },
  {
   "cell_type": "code",
   "execution_count": null,
   "id": "a94cf62c",
   "metadata": {},
   "outputs": [],
   "source": [
    "tmp_1 = tcp_pubres.groupby('resolver_name').size().reset_index().rename(columns={0 : 'num_msm'})\n",
    "tmp_2 = tcp_pubres[tcp_pubres['result_rt'].isna()\n",
    "                  ].groupby('resolver_name').size().reset_index().rename(columns={0 : 'num_failures'})\n",
    "tmp_3 = []\n",
    "tmp_3.insert(0, {'resolver_name': 'Public Resolver', 'num_msm': len(tcp_pubres), 'num_failures': len(tcp_pubres[tcp_pubres['result_rt'].isna()])})\n",
    "tcp_frates_all_conts = tmp_1.merge(tmp_2, on=['resolver_name'], how='right')\n",
    "tcp_frates_all_conts = tcp_frates_all_conts.append(pd.DataFrame(tmp_3))\n",
    "\n",
    "tcp_frates_all_conts['f_rate'] = tcp_frates_all_conts['num_failures'] / tcp_frates_all_conts['num_msm'] \n",
    "tcp_frates_all_conts['continent_code'] = 'Total'"
   ]
  },
  {
   "cell_type": "code",
   "execution_count": null,
   "id": "5284a8b9",
   "metadata": {},
   "outputs": [],
   "source": [
    "tcp_frates_all_conts"
   ]
  },
  {
   "cell_type": "markdown",
   "id": "1a33e388",
   "metadata": {},
   "source": [
    "#### Per Resolver and Continent"
   ]
  },
  {
   "cell_type": "code",
   "execution_count": null,
   "id": "95f44eed",
   "metadata": {
    "scrolled": true
   },
   "outputs": [],
   "source": [
    "tcp_num_msm_by_cont = tcp_pubres.groupby(['resolver_name' , 'continent_code']\n",
    "                                        ).size().reset_index().rename(columns={0 : 'num_msm'})\n",
    "tcp_num_msm_by_cont_public_resolver = tcp_pubres.groupby(['continent_code']\n",
    "                                        ).size().reset_index().rename(columns={0 : 'num_msm'})\n",
    "tcp_num_msm_by_cont_public_resolver['resolver_name'] = 'Public Resolver'\n",
    "tcp_num_msm_by_cont = tcp_num_msm_by_cont.append(tcp_num_msm_by_cont_public_resolver)\n",
    "tcp_num_msm_by_cont"
   ]
  },
  {
   "cell_type": "code",
   "execution_count": null,
   "id": "38ff7819",
   "metadata": {
    "scrolled": true
   },
   "outputs": [],
   "source": [
    "tcp_num_fail_by_cont = tcp_pubres[tcp_pubres['result_rt'].isna()\n",
    "                                 ].groupby(['resolver_name' , 'continent_code']\n",
    "                                          ).size().reset_index().rename(columns={0 : 'num_failures'})\n",
    "tcp_num_fail_by_cont_public_resolver = tcp_pubres[tcp_pubres['result_rt'].isna()\n",
    "                                 ].groupby(['continent_code']\n",
    "                                          ).size().reset_index().rename(columns={0 : 'num_failures'})\n",
    "tcp_num_fail_by_cont_public_resolver['resolver_name'] = 'Public Resolver'\n",
    "tcp_num_fail_by_cont = tcp_num_fail_by_cont.append(tcp_num_fail_by_cont_public_resolver)\n",
    "tcp_num_fail_by_cont"
   ]
  },
  {
   "cell_type": "code",
   "execution_count": null,
   "id": "786cd561",
   "metadata": {},
   "outputs": [],
   "source": [
    "tcp_fail_rates_by_cont = tcp_num_fail_by_cont.merge(tcp_num_msm_by_cont,\n",
    "                                                    on=['resolver_name', 'continent_code'], how='right')\n",
    "tcp_fail_rates_by_cont['f_rate'] = tcp_fail_rates_by_cont['num_failures'] / tcp_fail_rates_by_cont['num_msm'] "
   ]
  },
  {
   "cell_type": "code",
   "execution_count": null,
   "id": "8c888fe3",
   "metadata": {
    "scrolled": true
   },
   "outputs": [],
   "source": [
    "tcp_fail_rates_by_cont"
   ]
  },
  {
   "cell_type": "code",
   "execution_count": null,
   "id": "dbab5c97",
   "metadata": {},
   "outputs": [],
   "source": [
    "tcp_fail_rates_by_cont[tcp_fail_rates_by_cont['resolver_name'] != 'Public Resolver']['num_failures'].sum()"
   ]
  },
  {
   "cell_type": "code",
   "execution_count": null,
   "id": "75cc0653",
   "metadata": {},
   "outputs": [],
   "source": [
    "tcp_fail_rates_by_cont[tcp_fail_rates_by_cont['resolver_name'] != 'Public Resolver']['num_msm'].sum()"
   ]
  },
  {
   "cell_type": "code",
   "execution_count": null,
   "id": "d7b7d485",
   "metadata": {},
   "outputs": [],
   "source": [
    "tcp_fail_rates_by_cont['num_failures'].sum()/tcp_fail_rates_by_cont['num_msm'].sum()"
   ]
  },
  {
   "cell_type": "markdown",
   "id": "a6000536",
   "metadata": {},
   "source": [
    "#### Probe Resolver Failure Rates"
   ]
  },
  {
   "cell_type": "code",
   "execution_count": null,
   "id": "87061574",
   "metadata": {},
   "outputs": [],
   "source": [
    "tmp_1 = tcp_prbres[tcp_prbres['result_rt'].isna()\n",
    "                  ].groupby(['resolver_name' , 'continent_code']\n",
    "                           ).size().reset_index().rename(columns={0 : 'num_failures'})\n",
    "\n",
    "tmp_2 = tcp_prbres.groupby(['resolver_name' , 'continent_code']\n",
    "                          ).size().reset_index().rename(columns={0 : 'num_msm'})\n",
    "\n",
    "tcp_fail_rates_by_cont_prb = tmp_1.merge(tmp_2, on=['resolver_name', 'continent_code'], how='right')\n",
    "\n",
    "# manually adding \"total column\" over all continents for probe resolvers\n",
    "tcp_fail_rates_by_cont_prb.loc[len(tcp_fail_rates_by_cont_prb)\n",
    "                              ] = ['Probe Resolver', 'Total',\n",
    "                                   tcp_fail_rates_by_cont_prb['num_failures'].sum(),\n",
    "                                   tcp_fail_rates_by_cont_prb['num_msm'].sum()]\n",
    "\n",
    "tcp_fail_rates_by_cont_prb['f_rate'] = tcp_fail_rates_by_cont_prb['num_failures'] / tcp_fail_rates_by_cont_prb['num_msm'] "
   ]
  },
  {
   "cell_type": "code",
   "execution_count": null,
   "id": "8131fcd3",
   "metadata": {},
   "outputs": [],
   "source": [
    "tcp_fail_rates_by_cont_prb"
   ]
  },
  {
   "cell_type": "markdown",
   "id": "74d8f216",
   "metadata": {},
   "source": [
    "#### Putting everything together"
   ]
  },
  {
   "cell_type": "code",
   "execution_count": null,
   "id": "177b5f12",
   "metadata": {},
   "outputs": [],
   "source": [
    "tcp_fail_rates_by_cont_merged = pd.concat([tcp_fail_rates_by_cont,\n",
    "                                           tcp_frates_all_conts,\n",
    "                                           tcp_fail_rates_by_cont_prb])"
   ]
  },
  {
   "cell_type": "code",
   "execution_count": null,
   "id": "961de05f",
   "metadata": {},
   "outputs": [],
   "source": [
    "tcp_fail_rates_by_cont_merged"
   ]
  },
  {
   "cell_type": "code",
   "execution_count": null,
   "id": "88bf05cf",
   "metadata": {},
   "outputs": [],
   "source": [
    "tcp_crosstab_fail_rates_by_cont = pd.crosstab(tcp_fail_rates_by_cont_merged['resolver_name'],\n",
    "                                              tcp_fail_rates_by_cont_merged['continent_code'],\n",
    "                                              values=tcp_fail_rates_by_cont_merged['f_rate'], aggfunc='median'\n",
    "                                             ).round(3)\n",
    "tcp_crosstab_fail_rates_by_cont = tcp_crosstab_fail_rates_by_cont.reindex(['Public Resolver', 'CleanBrowsing', 'Cloudflare',\n",
    "                                                                           'Comodo', 'Google', 'Neustar',\n",
    "                                                                           'OpenDNS', 'OpenNIC', 'Quad9',\n",
    "                                                                           'UncensoredDNS', 'Yandex',\n",
    "                                                                           'Probe Resolver'])"
   ]
  },
  {
   "cell_type": "code",
   "execution_count": null,
   "id": "fa0e9889",
   "metadata": {},
   "outputs": [],
   "source": [
    "tcp_crosstab_fail_rates_by_cont"
   ]
  },
  {
   "cell_type": "code",
   "execution_count": null,
   "id": "64013bef",
   "metadata": {},
   "outputs": [],
   "source": [
    "diff_crosstab_fail_rates_by_cont = tcp_crosstab_fail_rates_by_cont - udp_crosstab_fail_rates_by_cont"
   ]
  },
  {
   "cell_type": "code",
   "execution_count": null,
   "id": "03a7e8ad",
   "metadata": {},
   "outputs": [],
   "source": [
    "diff_crosstab_fail_rates_by_cont"
   ]
  },
  {
   "cell_type": "code",
   "execution_count": null,
   "id": "248d0dcd",
   "metadata": {},
   "outputs": [],
   "source": [
    "from matplotlib.ticker import FuncFormatter"
   ]
  },
  {
   "cell_type": "code",
   "execution_count": null,
   "id": "91544aea",
   "metadata": {},
   "outputs": [],
   "source": [
    "fig, (ax1, ax2) = plt.subplots(nrows=2, figsize=(6, 6.5), gridspec_kw = {'wspace':0, 'hspace':0.15}, sharex=True)\n",
    "ax1 = sns.heatmap(tcp_crosstab_fail_rates_by_cont,\n",
    "            annot=True,\n",
    "            cmap='RdYlGn_r', #'RdYlBu_r',  # \"RdYlGn_r\",\n",
    "            cbar_kws={'label' : 'Failure Rate',\n",
    "                      'format': FuncFormatter(lambda x, pos: '{:.1%}'.format(x))},\n",
    "            ax=ax1,\n",
    "            fmt='.1%',\n",
    "            vmin=0,\n",
    "            vmax=0.25,\n",
    "            xticklabels=False\n",
    "           )\n",
    "ax1.set_xlabel('')\n",
    "ax1.set_ylabel('')\n",
    "\n",
    "ax2 = sns.heatmap(diff_crosstab_fail_rates_by_cont,\n",
    "            annot=True,\n",
    "            cmap='RdBu_r', #'RdYlGn_r',\n",
    "            cbar_kws={'label' : 'Failure Rate Difference',\n",
    "                      'format': FuncFormatter(lambda x, pos: '{:.1%}'.format(x))},\n",
    "            ax=ax2,\n",
    "            fmt='.1%',\n",
    "            vmin=-0.25,\n",
    "            vmax=0.25,\n",
    "           )\n",
    "ax2.set_xlabel('')\n",
    "ax2.set_ylabel('')\n",
    "\n",
    "fig.show()\n",
    "fig.savefig('diff-failure-rate-heatmap-CC-merged.pdf', bbox_inches='tight')"
   ]
  },
  {
   "cell_type": "markdown",
   "id": "33531070",
   "metadata": {},
   "source": [
    "## Plot ASN Heatmaps - ASN part of Figure 1 in the paper"
   ]
  },
  {
   "cell_type": "markdown",
   "id": "e742d46b",
   "metadata": {},
   "source": [
    "## Failure Rates by top ASNs"
   ]
  },
  {
   "cell_type": "code",
   "execution_count": null,
   "id": "dd655fbc",
   "metadata": {},
   "outputs": [],
   "source": [
    "probes_per_asn_top_10"
   ]
  },
  {
   "cell_type": "code",
   "execution_count": null,
   "id": "7c57c738",
   "metadata": {},
   "outputs": [],
   "source": [
    "probes_per_asn_top_10['asn'].unique()"
   ]
  },
  {
   "cell_type": "code",
   "execution_count": null,
   "id": "74b59ed5",
   "metadata": {},
   "outputs": [],
   "source": [
    "udp_pubres_top_asns = udp_pubres[udp_pubres['asn'].isin(probes_per_asn_top_10['asn'].unique())]\n",
    "udp_prbres_top_asns = udp_prbres[udp_prbres['asn'].isin(probes_per_asn_top_10['asn'].unique())]"
   ]
  },
  {
   "cell_type": "code",
   "execution_count": null,
   "id": "b2b72fe8",
   "metadata": {},
   "outputs": [],
   "source": [
    "udp_pubres_top_asns"
   ]
  },
  {
   "cell_type": "code",
   "execution_count": null,
   "id": "51dd0d7a",
   "metadata": {},
   "outputs": [],
   "source": [
    "udp_prbres_top_asns"
   ]
  },
  {
   "cell_type": "code",
   "execution_count": null,
   "id": "72cd7a96",
   "metadata": {},
   "outputs": [],
   "source": [
    "### Calculcated Failure Rates for UDP Heatmap\n",
    "\n",
    "#### Per Resolver and ASN\n",
    "\n",
    "udp_num_msm_by_top_asns = udp_pubres_top_asns.groupby(['resolver_name' , 'asn']\n",
    "                                                     ).size().reset_index().rename(columns={0 : 'num_msm'})\n",
    "udp_num_msm_by_top_asns_public_resolver = udp_pubres_top_asns.groupby(['asn']\n",
    "                                        ).size().reset_index().rename(columns={0 : 'num_msm'})\n",
    "udp_num_msm_by_top_asns_public_resolver['resolver_name'] = 'Public Resolver'\n",
    "udp_num_msm_by_top_asns = udp_num_msm_by_top_asns.append(udp_num_msm_by_top_asns_public_resolver)\n",
    "\n",
    "\n",
    "\n",
    "udp_num_fail_by_top_asns = udp_pubres_top_asns[udp_pubres_top_asns['result_rt'].isna()\n",
    "                                              ].groupby(['resolver_name' , 'asn']\n",
    "                                                       ).size().reset_index().rename(columns={0 : 'num_failures'})\n",
    "udp_num_fail_by_top_asns_public_resolver = udp_pubres_top_asns[udp_pubres_top_asns['result_rt'].isna()\n",
    "                                              ].groupby(['asn']\n",
    "                                                       ).size().reset_index().rename(columns={0 : 'num_failures'})\n",
    "udp_num_fail_by_top_asns_public_resolver['resolver_name'] = 'Public Resolver'\n",
    "udp_num_fail_by_top_asns = udp_num_fail_by_top_asns.append(udp_num_fail_by_top_asns_public_resolver)"
   ]
  },
  {
   "cell_type": "code",
   "execution_count": null,
   "id": "b954c202",
   "metadata": {},
   "outputs": [],
   "source": [
    "udp_fail_rates_by_top_asns = udp_num_fail_by_top_asns.merge(udp_num_msm_by_top_asns,\n",
    "                                                            on=['resolver_name', 'asn'], how='right')\n",
    "udp_fail_rates_by_top_asns['f_rate'] = udp_fail_rates_by_top_asns['num_failures'] / udp_fail_rates_by_top_asns['num_msm'] "
   ]
  },
  {
   "cell_type": "code",
   "execution_count": null,
   "id": "d6f037a6",
   "metadata": {},
   "outputs": [],
   "source": [
    "udp_fail_rates_by_top_asns"
   ]
  },
  {
   "cell_type": "code",
   "execution_count": null,
   "id": "d6fb304d",
   "metadata": {},
   "outputs": [],
   "source": [
    "#### Probe Resolver Failure Rates\n",
    "\n",
    "tmp_1 = udp_prbres_top_asns[udp_prbres_top_asns['result_rt'].isna()\n",
    "                           ].groupby(['resolver_name' , 'asn']\n",
    "                                    ).size().reset_index().rename(columns={0 : 'num_failures'})\n",
    "\n",
    "tmp_2 = udp_prbres_top_asns.groupby(['resolver_name' , 'asn']\n",
    "                                   ).size().reset_index().rename(columns={0 : 'num_msm'})\n",
    "\n",
    "udp_fail_rates_by_top_asns_prb = tmp_1.merge(tmp_2, on=['resolver_name', 'asn'], how='right')\n",
    "\n",
    "udp_fail_rates_by_top_asns_prb['f_rate'] = udp_fail_rates_by_top_asns_prb['num_failures'] / udp_fail_rates_by_top_asns_prb['num_msm'] "
   ]
  },
  {
   "cell_type": "code",
   "execution_count": null,
   "id": "88658fc5",
   "metadata": {},
   "outputs": [],
   "source": [
    "#### Putting everything together\n",
    "\n",
    "udp_fail_rates_by_top_asns_merged = pd.concat([udp_fail_rates_by_top_asns, udp_fail_rates_by_top_asns_prb])\n",
    "\n",
    "udp_crosstab_fail_rates_by_top_asns = pd.crosstab(udp_fail_rates_by_top_asns_merged['resolver_name'],\n",
    "                                                  udp_fail_rates_by_top_asns_merged['asn'],\n",
    "                                                  values=udp_fail_rates_by_top_asns_merged['f_rate'],\n",
    "                                                  aggfunc='median').round(3)\n",
    "udp_crosstab_fail_rates_by_top_asns = udp_crosstab_fail_rates_by_top_asns.reindex(['Public Resolver', 'CleanBrowsing', 'Cloudflare',\n",
    "                                                                                   'Comodo', 'Google', 'Neustar',\n",
    "                                                                                   'OpenDNS', 'OpenNIC', 'Quad9',\n",
    "                                                                                   'UncensoredDNS', 'Yandex',\n",
    "                                                                                   'Probe Resolver'])"
   ]
  },
  {
   "cell_type": "code",
   "execution_count": null,
   "id": "987034fb",
   "metadata": {},
   "outputs": [],
   "source": [
    "udp_crosstab_fail_rates_by_top_asns"
   ]
  },
  {
   "cell_type": "code",
   "execution_count": null,
   "id": "c1d148bc",
   "metadata": {},
   "outputs": [],
   "source": [
    "tcp_pubres_top_asns = tcp_pubres[tcp_pubres['asn'].isin(probes_per_asn_top_10['asn'].unique())]\n",
    "tcp_prbres_top_asns = tcp_prbres[tcp_prbres['asn'].isin(probes_per_asn_top_10['asn'].unique())]"
   ]
  },
  {
   "cell_type": "code",
   "execution_count": null,
   "id": "86595add",
   "metadata": {},
   "outputs": [],
   "source": [
    "### Calculcated Failure Rates for TCP Heatmap\n",
    "\n",
    "#### Per Resolver and ASN\n",
    "\n",
    "tcp_num_msm_by_top_asns = tcp_pubres_top_asns.groupby(['resolver_name' , 'asn']\n",
    "                                                     ).size().reset_index().rename(columns={0 : 'num_msm'})\n",
    "tcp_num_msm_by_top_asns_public_resolver = tcp_pubres_top_asns.groupby(['asn']\n",
    "                                        ).size().reset_index().rename(columns={0 : 'num_msm'})\n",
    "tcp_num_msm_by_top_asns_public_resolver['resolver_name'] = 'Public Resolver'\n",
    "tcp_num_msm_by_top_asns = tcp_num_msm_by_top_asns.append(tcp_num_msm_by_top_asns_public_resolver)\n",
    "\n",
    "tcp_num_fail_by_top_asns = tcp_pubres_top_asns[tcp_pubres_top_asns['result_rt'].isna()\n",
    "                                              ].groupby(['resolver_name' , 'asn']\n",
    "                                                       ).size().reset_index().rename(columns={0 : 'num_failures'})\n",
    "tcp_num_fail_by_top_asns_public_resolver = tcp_pubres_top_asns[tcp_pubres_top_asns['result_rt'].isna()\n",
    "                                              ].groupby(['asn']\n",
    "                                                       ).size().reset_index().rename(columns={0 : 'num_failures'})\n",
    "tcp_num_fail_by_top_asns_public_resolver['resolver_name'] = 'Public Resolver'\n",
    "tcp_num_fail_by_top_asns = tcp_num_fail_by_top_asns.append(tcp_num_fail_by_top_asns_public_resolver)\n",
    "\n",
    "tcp_fail_rates_by_top_asns = tcp_num_fail_by_top_asns.merge(tcp_num_msm_by_top_asns,\n",
    "                                                            on=['resolver_name', 'asn'], how='right')\n",
    "tcp_fail_rates_by_top_asns['f_rate'] = tcp_fail_rates_by_top_asns['num_failures'] / tcp_fail_rates_by_top_asns['num_msm'] "
   ]
  },
  {
   "cell_type": "code",
   "execution_count": null,
   "id": "08ae56a3",
   "metadata": {},
   "outputs": [],
   "source": [
    "tcp_fail_rates_by_top_asns"
   ]
  },
  {
   "cell_type": "code",
   "execution_count": null,
   "id": "3a268d01",
   "metadata": {},
   "outputs": [],
   "source": [
    "#### Probe Resolver Failure Rates\n",
    "\n",
    "tmp_1 = tcp_prbres_top_asns[tcp_prbres_top_asns['result_rt'].isna()].groupby(['resolver_name' , 'asn']\n",
    "                  ).size().reset_index().rename(columns={0 : 'num_failures'})\n",
    "\n",
    "tmp_2 = tcp_prbres_top_asns.groupby(['resolver_name' , 'asn']\n",
    "                  ).size().reset_index().rename(columns={0 : 'num_msm'})\n",
    "\n",
    "tcp_fail_rates_by_top_asns_prb = tmp_1.merge(tmp_2, on=['resolver_name', 'asn'], how='right')\n",
    "\n",
    "\n",
    "tcp_fail_rates_by_top_asns_prb['f_rate'] = tcp_fail_rates_by_top_asns_prb['num_failures'] / tcp_fail_rates_by_top_asns_prb['num_msm'] "
   ]
  },
  {
   "cell_type": "code",
   "execution_count": null,
   "id": "9a465e16",
   "metadata": {},
   "outputs": [],
   "source": [
    "#### Putting everything together\n",
    "\n",
    "tcp_fail_rates_by_top_asns_merged = pd.concat([tcp_fail_rates_by_top_asns, tcp_fail_rates_by_top_asns_prb])\n",
    "\n",
    "tcp_crosstab_fail_rates_by_top_asns = pd.crosstab(tcp_fail_rates_by_top_asns_merged['resolver_name'],\n",
    "                                                  tcp_fail_rates_by_top_asns_merged['asn'],\n",
    "                                                  values=tcp_fail_rates_by_top_asns_merged['f_rate'],\n",
    "                                                  aggfunc='median').round(3)\n",
    "tcp_crosstab_fail_rates_by_top_asns = tcp_crosstab_fail_rates_by_top_asns.reindex(['Public Resolver', 'CleanBrowsing', 'Cloudflare',\n",
    "                                                                                   'Comodo', 'Google', 'Neustar',\n",
    "                                                                                   'OpenDNS', 'OpenNIC', 'Quad9',\n",
    "                                                                                   'UncensoredDNS', 'Yandex',\n",
    "                                                                                   'Probe Resolver'])"
   ]
  },
  {
   "cell_type": "code",
   "execution_count": null,
   "id": "ab174dd6",
   "metadata": {},
   "outputs": [],
   "source": [
    "top_as_names = probes_per_asn_top_10[['asn', 'asn_name']].set_index('asn').to_dict()['asn_name']\n",
    "top_as_names"
   ]
  },
  {
   "cell_type": "code",
   "execution_count": null,
   "id": "b7973d76",
   "metadata": {},
   "outputs": [],
   "source": [
    "probes_per_asn_top_10['asn_name'].to_list()  # to use descending order based on size"
   ]
  },
  {
   "cell_type": "code",
   "execution_count": null,
   "id": "5319c602",
   "metadata": {},
   "outputs": [],
   "source": [
    "udp_crosstab_fail_rates_by_top_asns = udp_crosstab_fail_rates_by_top_asns.rename(columns=top_as_names)[probes_per_asn_top_10['asn_name'].to_list()]\n",
    "udp_crosstab_fail_rates_by_top_asns"
   ]
  },
  {
   "cell_type": "code",
   "execution_count": null,
   "id": "6cc9d292",
   "metadata": {},
   "outputs": [],
   "source": [
    "tcp_crosstab_fail_rates_by_top_asns = tcp_crosstab_fail_rates_by_top_asns.rename(columns=top_as_names)[probes_per_asn_top_10['asn_name'].to_list()]\n",
    "tcp_crosstab_fail_rates_by_top_asns"
   ]
  },
  {
   "cell_type": "code",
   "execution_count": null,
   "id": "daf745e0",
   "metadata": {},
   "outputs": [],
   "source": [
    "diff_crosstab_fail_rates_by_top_asns = tcp_crosstab_fail_rates_by_top_asns - udp_crosstab_fail_rates_by_top_asns"
   ]
  },
  {
   "cell_type": "code",
   "execution_count": null,
   "id": "d0f849b8",
   "metadata": {},
   "outputs": [],
   "source": [
    "diff_crosstab_fail_rates_by_top_asns"
   ]
  },
  {
   "cell_type": "code",
   "execution_count": null,
   "id": "63d7cd11",
   "metadata": {},
   "outputs": [],
   "source": [
    "fig, (ax1, ax2) = plt.subplots(nrows=2, figsize=(8, 6.5), gridspec_kw = {'wspace':0, 'hspace':0.15}, sharex=True)\n",
    "ax1 = sns.heatmap(tcp_crosstab_fail_rates_by_top_asns,\n",
    "            annot=True,\n",
    "            cmap='RdYlGn_r', #'RdYlBu_r',  # \"RdYlGn_r\",\n",
    "            cbar_kws={'label' : 'Failure Rate',\n",
    "                      'format': FuncFormatter(lambda x, pos: '{:.1%}'.format(x))},\n",
    "            ax=ax1,\n",
    "            fmt='.1%',\n",
    "            vmin=0,\n",
    "            vmax=0.25,\n",
    "            xticklabels=False\n",
    "           )\n",
    "ax1.set_xlabel('')\n",
    "ax1.set_ylabel('')\n",
    "\n",
    "ax2 = sns.heatmap(diff_crosstab_fail_rates_by_top_asns,\n",
    "            annot=True,\n",
    "            cmap='RdBu_r', #'RdYlGn_r',\n",
    "            cbar_kws={'label' : 'Failure Rate Difference',\n",
    "                      'format': FuncFormatter(lambda x, pos: '{:.1%}'.format(x))},\n",
    "            ax=ax2,\n",
    "            fmt='.1%',\n",
    "            vmin=-0.25,\n",
    "            vmax=0.25,\n",
    "           )\n",
    "ax2.set_xlabel('')\n",
    "ax2.set_ylabel('')\n",
    "\n",
    "fig.show()\n",
    "fig.savefig('diff-failure-rate-heatmap-ASN-merged.pdf', bbox_inches='tight')"
   ]
  },
  {
   "cell_type": "markdown",
   "id": "6d59b856",
   "metadata": {},
   "source": [
    "#### ================================================================================"
   ]
  },
  {
   "cell_type": "markdown",
   "id": "237c03e0",
   "metadata": {},
   "source": [
    "# Combined Heatmap Plots - Figure 1 and 2 in paper"
   ]
  },
  {
   "cell_type": "code",
   "execution_count": null,
   "id": "f3c7da7e",
   "metadata": {},
   "outputs": [],
   "source": [
    "asns_sorted = probes_per_asn_top_10['asn_name'].unique()\n",
    "# use to sort columns of ASN heatmaps"
   ]
  },
  {
   "cell_type": "code",
   "execution_count": null,
   "id": "e685a6af",
   "metadata": {},
   "outputs": [],
   "source": [
    "tcp_cont_rt = tcp_heatmap\n",
    "tcp_asn_rt = tcp_asn_heatmap[asns_sorted]\n",
    "    \n",
    "diff_cont_rt = diff_heatmap\n",
    "diff_asn_rt = diff_asn_heatmap[asns_sorted]\n",
    "    \n",
    "tcp_cont_fr = tcp_crosstab_fail_rates_by_cont\n",
    "tcp_asn_fr = tcp_crosstab_fail_rates_by_top_asns[asns_sorted]\n",
    "    \n",
    "diff_cont_fr = diff_crosstab_fail_rates_by_cont\n",
    "diff_asn_fr = diff_crosstab_fail_rates_by_top_asns[asns_sorted]"
   ]
  },
  {
   "cell_type": "code",
   "execution_count": null,
   "id": "e3237b23",
   "metadata": {},
   "outputs": [],
   "source": [
    "continents_dict = {'EU' : 'Europe',\n",
    "                   'NA' : 'North America',\n",
    "                   'AS' : 'Asia',\n",
    "                   'OC' : 'Oceania',\n",
    "                   'SA' : 'South America',\n",
    "                   'AF' : 'Africa'\n",
    "                  }\n",
    "\n",
    "as_dict = {'COMCAST-7922' : 'COMCAST', \n",
    "           'Orange S.A.' : 'ORANGE',\n",
    "           'ATT-INTERNET4' : 'ATT',\n",
    "           'TNF-AS' : 'TNF',\n",
    "           'ASN-IBSNAZ' : 'IBSNAZ'}"
   ]
  },
  {
   "cell_type": "code",
   "execution_count": null,
   "id": "488bd286",
   "metadata": {},
   "outputs": [],
   "source": [
    "conts_list = continents_dict.values()\n",
    "conts_list"
   ]
  },
  {
   "cell_type": "code",
   "execution_count": null,
   "id": "4927efa9",
   "metadata": {},
   "outputs": [],
   "source": [
    "for df in [tcp_cont_rt, diff_cont_rt, tcp_cont_fr, diff_cont_fr]:\n",
    "    df.rename(columns=continents_dict, inplace=True)\n",
    "    \n",
    "for df in [tcp_asn_rt, diff_asn_rt, tcp_asn_fr, diff_asn_fr]:\n",
    "    df.rename(columns=as_dict, inplace=True)"
   ]
  },
  {
   "cell_type": "code",
   "execution_count": null,
   "id": "a0cb8841",
   "metadata": {},
   "outputs": [],
   "source": [
    "# Plot Params\n",
    "\n",
    "fig_size = (13, 6.5)\n",
    "n_rows = 2\n",
    "n_cols = 3\n",
    "gridspec_kws = {'wspace':0.05,\n",
    "                'hspace':0.15,\n",
    "                'width_ratios': [5, 33, 62]\n",
    "#                 'width_ratios': [1, 6, 10]\n",
    "               }\n",
    "\n",
    "rt_vmin = 0\n",
    "rt_vmax = 500\n",
    "rt_fmt = '.1f'\n",
    "\n",
    "fr_vmin = 0\n",
    "fr_vmax = 0.25\n",
    "fr_fmt =  '.1%'\n",
    "\n",
    "diff_rt_vmin = -200\n",
    "diff_rt_vmax = 200\n",
    "diff_fr_vmin = -0.2\n",
    "diff_fr_vmax = 0.2\n",
    "\n",
    "abs_cmap = 'RdYlGn_r'\n",
    "diff_cmap = 'RdBu_r'\n",
    "cbar_pad = 0.025\n",
    "cbar_fr_fmt = FuncFormatter(lambda x, pos: '{:.0%}'.format(x))\n",
    "\n",
    "label_rot = 45"
   ]
  },
  {
   "cell_type": "markdown",
   "id": "d8cd6d9a",
   "metadata": {},
   "source": [
    "## Combined Response Time Heatmap Plot - Figure 2 in paper"
   ]
  },
  {
   "cell_type": "code",
   "execution_count": null,
   "id": "da2f89ef",
   "metadata": {},
   "outputs": [],
   "source": [
    "fig, ((ax_total, ax_cont, ax_asn),\n",
    "      (ax_diff_total, ax_diff_cont, ax_diff_asn)) = plt.subplots(figsize=fig_size,\n",
    "                                                                 nrows=n_rows, ncols=n_cols,\n",
    "                                                                 gridspec_kw = gridspec_kws)\n",
    "\n",
    "ax_total = sns.heatmap(pd.DataFrame(tcp_cont_rt['Total']),\n",
    "                       annot=True,\n",
    "                       cmap=abs_cmap,\n",
    "                       cbar=False,\n",
    "                       ax=ax_total,\n",
    "                       fmt=rt_fmt,\n",
    "                       vmin=rt_vmin,\n",
    "                       vmax=rt_vmax,\n",
    "                      )\n",
    "ax_total.set_xlabel('')\n",
    "ax_total.set_ylabel('')\n",
    "ax_total.set_xticklabels([])\n",
    "\n",
    "ax_diff_total = sns.heatmap(pd.DataFrame(diff_cont_rt['Total']),\n",
    "                            annot=True,\n",
    "                            cmap=diff_cmap,\n",
    "                            cbar=False,\n",
    "                            ax=ax_diff_total,\n",
    "                            fmt=rt_fmt,\n",
    "                            vmin=diff_rt_vmin,\n",
    "                            vmax=diff_rt_vmax,\n",
    "                           )\n",
    "\n",
    "ax_diff_total.set_xlabel('')\n",
    "ax_diff_total.set_ylabel('')\n",
    "ax_diff_total.set_xticklabels(ax_diff_total.get_xticklabels(), rotation=45, ha='right')\n",
    "\n",
    "ax_cont = sns.heatmap(tcp_cont_rt[conts_list],\n",
    "                      annot=True,\n",
    "                      cmap=abs_cmap,\n",
    "                      cbar=False,\n",
    "                      ax=ax_cont,\n",
    "                      fmt=rt_fmt,\n",
    "                      vmin=rt_vmin,\n",
    "                      vmax=rt_vmax,\n",
    "                     )\n",
    "ax_cont.set_xlabel('')\n",
    "ax_cont.set_ylabel('')\n",
    "ax_cont.set_xticklabels([])\n",
    "ax_cont.set_yticklabels([])\n",
    "\n",
    "ax_diff_cont = sns.heatmap(diff_cont_rt[conts_list],\n",
    "                           annot=True,\n",
    "                           cmap=diff_cmap,\n",
    "                           cbar=False,\n",
    "                           ax=ax_diff_cont,\n",
    "                           fmt=rt_fmt,\n",
    "                           vmin=diff_rt_vmin,\n",
    "                           vmax=diff_rt_vmax,\n",
    "                          )\n",
    "ax_diff_cont.set_xlabel('')\n",
    "ax_diff_cont.set_ylabel('')\n",
    "ax_diff_cont.set_xticklabels(ax_diff_cont.get_xticklabels(), rotation=label_rot, ha='right')\n",
    "ax_diff_cont.set_yticklabels([])\n",
    "\n",
    "ax_asn = sns.heatmap(tcp_asn_rt,\n",
    "                     annot=True,\n",
    "                     cmap=abs_cmap,\n",
    "                     cbar_kws={'label' : 'Response Time over DoTCP [ms]', 'pad' : cbar_pad},\n",
    "                     ax=ax_asn,\n",
    "                     fmt=rt_fmt,\n",
    "                     vmin=rt_vmin,\n",
    "                     vmax=rt_vmax,\n",
    "                    )\n",
    "ax_asn.set_xlabel('')\n",
    "ax_asn.set_ylabel('')\n",
    "ax_asn.set_yticklabels([])\n",
    "ax_asn.set_xticklabels([])\n",
    "\n",
    "ax_diff_asn = sns.heatmap(diff_asn_rt,\n",
    "                          annot=True,\n",
    "                          cmap=diff_cmap,\n",
    "                          cbar_kws={'label' : 'Response Time Difference to DoUDP [ms]', 'pad' : cbar_pad},\n",
    "                          ax=ax_diff_asn,\n",
    "                          fmt=rt_fmt,\n",
    "                          vmin=diff_rt_vmin,\n",
    "                          vmax=diff_rt_vmax,\n",
    "                         )\n",
    "ax_diff_asn.set_xlabel('')\n",
    "ax_diff_asn.set_ylabel('')\n",
    "ax_diff_asn.set_yticklabels([])\n",
    "ax_diff_asn.set_xticklabels(ax_diff_asn.get_xticklabels(), rotation=label_rot, ha='right')\n",
    "\n",
    "fig.show()\n",
    "fig.savefig('combined-heatmaps-rt.pdf', bbox_inches='tight')"
   ]
  },
  {
   "cell_type": "markdown",
   "id": "8ccfb450",
   "metadata": {},
   "source": [
    "## Combined Failure Rates Heatmap Plot - Figure 1 in paper"
   ]
  },
  {
   "cell_type": "code",
   "execution_count": null,
   "id": "475aeb86",
   "metadata": {},
   "outputs": [],
   "source": [
    "fig, ((ax_total, ax_cont, ax_asn),\n",
    "      (ax_diff_total, ax_diff_cont, ax_diff_asn)) = plt.subplots(figsize=fig_size,\n",
    "                                                                 nrows=n_rows, ncols=n_cols,\n",
    "                                                                 gridspec_kw = gridspec_kws)\n",
    "\n",
    "ax_total = sns.heatmap(pd.DataFrame(tcp_cont_fr['Total']),\n",
    "                       annot=True,\n",
    "                       cmap=abs_cmap,\n",
    "                       cbar=False,\n",
    "                       ax=ax_total,\n",
    "                       fmt=fr_fmt,\n",
    "                       vmin=fr_vmin,\n",
    "                       vmax=fr_vmax,\n",
    "                      )\n",
    "ax_total.set_xlabel('')\n",
    "ax_total.set_ylabel('')\n",
    "ax_total.set_xticklabels([])\n",
    "\n",
    "ax_diff_total = sns.heatmap(pd.DataFrame(diff_cont_fr['Total']),\n",
    "                            annot=True,\n",
    "                            cmap=diff_cmap,\n",
    "                            cbar=False,\n",
    "                            ax=ax_diff_total,\n",
    "                            fmt=fr_fmt,\n",
    "                            vmin=diff_fr_vmin,\n",
    "                            vmax=diff_fr_vmax,\n",
    "                           )\n",
    "\n",
    "ax_diff_total.set_xlabel('')\n",
    "ax_diff_total.set_ylabel('')\n",
    "ax_diff_total.set_xticklabels(ax_diff_total.get_xticklabels(), rotation=label_rot, ha='right')\n",
    "\n",
    "ax_cont = sns.heatmap(tcp_cont_fr[conts_list],\n",
    "            annot=True,\n",
    "            cmap=abs_cmap,\n",
    "            cbar=False,\n",
    "            ax=ax_cont,\n",
    "            fmt=fr_fmt,\n",
    "            vmin=fr_vmin,\n",
    "            vmax=fr_vmax,\n",
    "           )\n",
    "ax_cont.set_xlabel('')\n",
    "ax_cont.set_ylabel('')\n",
    "ax_cont.set_xticklabels([])\n",
    "ax_cont.set_yticklabels([])\n",
    "\n",
    "ax_diff_cont = sns.heatmap(diff_cont_fr[conts_list],\n",
    "            annot=True,\n",
    "            cmap=diff_cmap,\n",
    "            cbar=False,\n",
    "            ax=ax_diff_cont,\n",
    "            fmt=fr_fmt,\n",
    "            vmin=diff_fr_vmin,\n",
    "            vmax=diff_fr_vmax,\n",
    "           )\n",
    "ax_diff_cont.set_xlabel('')\n",
    "ax_diff_cont.set_ylabel('')\n",
    "ax_diff_cont.set_xticklabels(ax_diff_cont.get_xticklabels(), rotation=label_rot, ha='right')\n",
    "ax_diff_cont.set_yticklabels([])\n",
    "\n",
    "ax_asn = sns.heatmap(tcp_asn_fr,\n",
    "            annot=True,\n",
    "            cmap=abs_cmap,\n",
    "            cbar_kws={'label' : 'Failure Rate over DoTCP',\n",
    "                      'format': cbar_fr_fmt,\n",
    "                      'pad' : cbar_pad},\n",
    "            ax=ax_asn,\n",
    "            fmt=fr_fmt,\n",
    "            vmin=fr_vmin,\n",
    "            vmax=fr_vmax,\n",
    "           )\n",
    "ax_asn.set_xlabel('')\n",
    "ax_asn.set_ylabel('')\n",
    "ax_asn.set_yticklabels([])\n",
    "ax_asn.set_xticklabels([])\n",
    "\n",
    "ax_diff_asn = sns.heatmap(diff_asn_fr,\n",
    "            annot=True,\n",
    "            cmap=diff_cmap,\n",
    "            cbar_kws={'label' : 'Failure Rate Difference to DoUDP',\n",
    "                      'format': cbar_fr_fmt,\n",
    "                      'pad' : cbar_pad,\n",
    "                     },\n",
    "            ax=ax_diff_asn,\n",
    "            fmt=fr_fmt,\n",
    "            vmin=diff_fr_vmin,\n",
    "            vmax=diff_fr_vmax,\n",
    "           )\n",
    "ax_diff_asn.set_xlabel('')\n",
    "ax_diff_asn.set_ylabel('')\n",
    "ax_diff_asn.set_yticklabels([])\n",
    "ax_diff_asn.set_xticklabels(ax_diff_asn.get_xticklabels(), rotation=label_rot, ha='right')\n",
    "\n",
    "fig.show()\n",
    "fig.savefig('combined-heatmaps-fr.pdf', bbox_inches='tight')"
   ]
  },
  {
   "cell_type": "markdown",
   "id": "aeb5a329",
   "metadata": {},
   "source": [
    "#### ================================================================================"
   ]
  },
  {
   "cell_type": "markdown",
   "id": "cbb46336",
   "metadata": {},
   "source": [
    "# Failure Rates: CPE vs ISP Resolver"
   ]
  },
  {
   "cell_type": "code",
   "execution_count": null,
   "id": "b87cbc89",
   "metadata": {},
   "outputs": [],
   "source": [
    "from ipaddress import ip_address"
   ]
  },
  {
   "cell_type": "code",
   "execution_count": null,
   "id": "af92bd26",
   "metadata": {},
   "outputs": [],
   "source": [
    "full_df['private_dst_addr'] = full_df['dst_address'].map(lambda x: ip_address(x).is_private)"
   ]
  },
  {
   "cell_type": "code",
   "execution_count": null,
   "id": "09ee37c5",
   "metadata": {},
   "outputs": [],
   "source": [
    "priv_df = full_df[full_df['private_dst_addr']]"
   ]
  },
  {
   "cell_type": "code",
   "execution_count": null,
   "id": "16b6fa24",
   "metadata": {},
   "outputs": [],
   "source": [
    "priv_df.head()"
   ]
  },
  {
   "cell_type": "code",
   "execution_count": null,
   "id": "1ca215b5",
   "metadata": {},
   "outputs": [],
   "source": [
    "priv_df['resolver_name'].unique()"
   ]
  },
  {
   "cell_type": "code",
   "execution_count": null,
   "id": "4a5842d8",
   "metadata": {},
   "outputs": [],
   "source": [
    "probe_res_df = full_df[full_df['resolver_name'] == 'Probe Resolver']"
   ]
  },
  {
   "cell_type": "code",
   "execution_count": null,
   "id": "dda9a754",
   "metadata": {},
   "outputs": [],
   "source": [
    "all_probe_res_msm = len(probe_res_df)\n",
    "all_probe_res_msm"
   ]
  },
  {
   "cell_type": "code",
   "execution_count": null,
   "id": "c9ea526e",
   "metadata": {},
   "outputs": [],
   "source": [
    "failed_probe_res_msm = len(probe_res_df[probe_res_df['result_rt'].isna()])\n",
    "failed_probe_res_msm"
   ]
  },
  {
   "cell_type": "code",
   "execution_count": null,
   "id": "d1b06a4a",
   "metadata": {},
   "outputs": [],
   "source": [
    "failed_probe_res_msm / all_probe_res_msm"
   ]
  },
  {
   "cell_type": "code",
   "execution_count": null,
   "id": "b5e145ce",
   "metadata": {},
   "outputs": [],
   "source": [
    "all_udp_probe_msm = len(probe_res_df[probe_res_df['proto'] == 'UDP'])\n",
    "all_udp_probe_msm"
   ]
  },
  {
   "cell_type": "code",
   "execution_count": null,
   "id": "300ae785",
   "metadata": {},
   "outputs": [],
   "source": [
    "all_tcp_probe_msm = len(probe_res_df[probe_res_df['proto'] == 'TCP'])\n",
    "all_tcp_probe_msm"
   ]
  },
  {
   "cell_type": "code",
   "execution_count": null,
   "id": "66430686",
   "metadata": {},
   "outputs": [],
   "source": [
    "failed_udp_probe_msm = len(probe_res_df[(probe_res_df['proto'] == 'UDP') & (probe_res_df['result_rt'].isna())])\n",
    "failed_udp_probe_msm"
   ]
  },
  {
   "cell_type": "code",
   "execution_count": null,
   "id": "526d65af",
   "metadata": {},
   "outputs": [],
   "source": [
    "failed_tcp_probe_msm = len(probe_res_df[(probe_res_df['proto'] == 'TCP') & (probe_res_df['result_rt'].isna())])\n",
    "failed_tcp_probe_msm"
   ]
  },
  {
   "cell_type": "code",
   "execution_count": null,
   "id": "1bf87a8b",
   "metadata": {},
   "outputs": [],
   "source": [
    "failed_tcp_probe_msm / all_tcp_probe_msm"
   ]
  },
  {
   "cell_type": "code",
   "execution_count": null,
   "id": "8587cc7f",
   "metadata": {},
   "outputs": [],
   "source": [
    "udp_priv_df = priv_df[priv_df['proto'] == 'UDP']\n",
    "tcp_priv_df = priv_df[priv_df['proto'] == 'TCP']"
   ]
  },
  {
   "cell_type": "code",
   "execution_count": null,
   "id": "d14c3597",
   "metadata": {},
   "outputs": [],
   "source": [
    "len(udp_priv_df)"
   ]
  },
  {
   "cell_type": "code",
   "execution_count": null,
   "id": "06672742",
   "metadata": {},
   "outputs": [],
   "source": [
    "len(tcp_priv_df)"
   ]
  },
  {
   "cell_type": "code",
   "execution_count": null,
   "id": "4a6e2d33",
   "metadata": {
    "scrolled": true
   },
   "outputs": [],
   "source": [
    "failed_cpe_udp_probe_msm = len(udp_priv_df[udp_priv_df['result_rt'].isna()])\n",
    "failed_cpe_udp_probe_msm"
   ]
  },
  {
   "cell_type": "code",
   "execution_count": null,
   "id": "eff9d9c9",
   "metadata": {},
   "outputs": [],
   "source": [
    "failed_cpe_udp_probe_msm / failed_udp_probe_msm"
   ]
  },
  {
   "cell_type": "code",
   "execution_count": null,
   "id": "0dd2f368",
   "metadata": {},
   "outputs": [],
   "source": [
    "failed_cpe_tcp_probe_msm = len(tcp_priv_df[tcp_priv_df['result_rt'].isna()])\n",
    "failed_cpe_tcp_probe_msm"
   ]
  },
  {
   "cell_type": "code",
   "execution_count": null,
   "id": "e83caf8e",
   "metadata": {},
   "outputs": [],
   "source": [
    "failed_cpe_tcp_probe_msm / failed_tcp_probe_msm"
   ]
  },
  {
   "cell_type": "code",
   "execution_count": null,
   "id": "2a524cb9",
   "metadata": {},
   "outputs": [],
   "source": [
    "failed_cpe_tcp_probe_msm / all_tcp_probe_msm"
   ]
  },
  {
   "cell_type": "code",
   "execution_count": null,
   "id": "1491ecd3",
   "metadata": {},
   "outputs": [],
   "source": [
    "ok_cpe_tcp_probe_msm = len(tcp_priv_df[tcp_priv_df['result_rt'].notna()])\n",
    "ok_cpe_tcp_probe_msm"
   ]
  },
  {
   "cell_type": "markdown",
   "id": "de258a87",
   "metadata": {},
   "source": [
    "#### ================================================================================"
   ]
  },
  {
   "cell_type": "markdown",
   "id": "b2f03ab3",
   "metadata": {},
   "source": [
    "# Failure Reasons - part of Table 3 in paper"
   ]
  },
  {
   "cell_type": "code",
   "execution_count": null,
   "id": "e39359d2",
   "metadata": {},
   "outputs": [],
   "source": [
    "measurements_results_failures = full_df[full_df['result_rt'].isna()]"
   ]
  },
  {
   "cell_type": "code",
   "execution_count": null,
   "id": "2f1b3077",
   "metadata": {},
   "outputs": [],
   "source": [
    "measurements_results_failures"
   ]
  },
  {
   "cell_type": "code",
   "execution_count": null,
   "id": "b92146f0",
   "metadata": {},
   "outputs": [],
   "source": [
    "measurements_failures = measurements_results_failures[['proto', 'err_msg', 'resolver_name']]\n",
    "measurements_failures['err_msg'] = measurements_failures['err_msg'].astype('str')\n",
    "measurements_failures['err_msg'] = np.where(measurements_failures['err_msg'].str.contains('TU', regex = False), 'TUCONNECT', measurements_failures['err_msg'])\n",
    "measurements_failures['err_msg'] = np.where(measurements_failures['err_msg'].str.contains('socket', regex = False), 'SOCKET', measurements_failures['err_msg'])\n",
    "measurements_failures['resolver'] = np.where(measurements_failures['resolver_name'] != 'Probe Resolver', 'public', 'probe')\n",
    "measurements_failures\n"
   ]
  },
  {
   "cell_type": "markdown",
   "id": "77b08043",
   "metadata": {},
   "source": [
    "# Dataset Overview Table: Failure Reasons"
   ]
  },
  {
   "cell_type": "markdown",
   "id": "046e0e5b",
   "metadata": {},
   "source": [
    "## TCP"
   ]
  },
  {
   "cell_type": "code",
   "execution_count": null,
   "id": "605461cb",
   "metadata": {},
   "outputs": [],
   "source": [
    "tcp_failures = measurements_failures[measurements_failures['proto'] == 'TCP']"
   ]
  },
  {
   "cell_type": "code",
   "execution_count": null,
   "id": "e8b2b76c",
   "metadata": {},
   "outputs": [],
   "source": [
    "tcp_failures"
   ]
  },
  {
   "cell_type": "code",
   "execution_count": null,
   "id": "231580b5",
   "metadata": {},
   "outputs": [],
   "source": [
    "tcp_failures_probe = tcp_failures[tcp_failures['resolver'] == 'probe']\n",
    "tcp_failures_probe = tcp_failures_probe.groupby(['err_msg', 'resolver']).size().reset_index().rename(columns={0 : 'cnt'})\n",
    "tcp_failures_probe['perc'] = (tcp_failures_probe['cnt'] / 454151).round(5)\n",
    "tcp_failures_probe = tcp_failures_probe.sort_values('cnt', ascending=False)"
   ]
  },
  {
   "cell_type": "code",
   "execution_count": null,
   "id": "59d2f05e",
   "metadata": {
    "scrolled": true
   },
   "outputs": [],
   "source": [
    "print(tcp_failures_probe[['cnt', 'perc', 'err_msg']].to_latex(index=False))"
   ]
  },
  {
   "cell_type": "code",
   "execution_count": null,
   "id": "518d5211",
   "metadata": {},
   "outputs": [],
   "source": [
    "tcp_failures_public = tcp_failures[tcp_failures['resolver'] == 'public']\n",
    "tcp_failures_public = tcp_failures_public.groupby(['err_msg', 'resolver']).size().reset_index().rename(columns={0 : 'cnt'})\n",
    "tcp_failures_public['perc'] = (tcp_failures_public['cnt'] / 4655635).round(5)\n",
    "tcp_failures_public = tcp_failures_public.sort_values('cnt', ascending=False)"
   ]
  },
  {
   "cell_type": "code",
   "execution_count": null,
   "id": "7ee23bcf",
   "metadata": {},
   "outputs": [],
   "source": [
    "print(tcp_failures_public[['cnt', 'perc', 'err_msg']].to_latex(index=False))"
   ]
  },
  {
   "cell_type": "code",
   "execution_count": null,
   "id": "582cc679",
   "metadata": {},
   "outputs": [],
   "source": [
    "tcp_failures_public_breakdown = tcp_failures[tcp_failures['resolver'] == 'public']\n",
    "tcp_failures_public_breakdown_total = tcp_failures_public_breakdown.groupby(['resolver_name']).size().reset_index().rename(columns={0 : 'total'})\n",
    "tcp_failures_public_breakdown = tcp_failures_public_breakdown.groupby(['err_msg', 'resolver_name']).size().reset_index().rename(columns={0 : 'failures'})\n",
    "tcp_failures_public_breakdown = tcp_failures_public_breakdown.merge(tcp_failures_public_breakdown_total, how='left', left_on='resolver_name', right_on='resolver_name')\n",
    "tcp_failures_public_breakdown['perc'] = (tcp_failures_public_breakdown['failures'] / tcp_failures_public_breakdown['total']).round(2)\n",
    "tcp_failures_public_breakdown = tcp_failures_public_breakdown.pivot(index='err_msg', columns='resolver_name', values='perc')"
   ]
  },
  {
   "cell_type": "code",
   "execution_count": null,
   "id": "1094900b",
   "metadata": {},
   "outputs": [],
   "source": [
    "tcp_failures_public_breakdown"
   ]
  },
  {
   "cell_type": "markdown",
   "id": "074b0de5",
   "metadata": {},
   "source": [
    "## UDP"
   ]
  },
  {
   "cell_type": "code",
   "execution_count": null,
   "id": "ed821b48",
   "metadata": {},
   "outputs": [],
   "source": [
    "udp_failures = measurements_failures[measurements_failures['proto'] == 'UDP']\n",
    "pd.options.display.max_colwidth = 100"
   ]
  },
  {
   "cell_type": "code",
   "execution_count": null,
   "id": "c2549ba4",
   "metadata": {},
   "outputs": [],
   "source": [
    "udp_failures"
   ]
  },
  {
   "cell_type": "code",
   "execution_count": null,
   "id": "97ec1764",
   "metadata": {},
   "outputs": [],
   "source": [
    "udp_failures_probe = udp_failures[udp_failures['resolver'] == 'probe']\n",
    "udp_failures_probe = udp_failures_probe.groupby(['err_msg', 'resolver']).size().reset_index().rename(columns={0 : 'cnt'})\n",
    "udp_failures_probe['perc'] = (udp_failures_probe['cnt'] / 454417).round(5)\n",
    "udp_failures_probe = udp_failures_probe.sort_values('cnt', ascending=False)\n"
   ]
  },
  {
   "cell_type": "code",
   "execution_count": null,
   "id": "eeecfc34",
   "metadata": {},
   "outputs": [],
   "source": [
    "print(udp_failures_probe[['cnt', 'perc', 'err_msg']].to_latex(index=False))"
   ]
  },
  {
   "cell_type": "code",
   "execution_count": null,
   "id": "b69b3161",
   "metadata": {},
   "outputs": [],
   "source": [
    "udp_failures_public = udp_failures[udp_failures['resolver'] == 'public']\n",
    "udp_failures_public = udp_failures_public.groupby(['err_msg', 'resolver']).size().reset_index().rename(columns={0 : 'cnt'})\n",
    "udp_failures_public['perc'] = (udp_failures_public['cnt'] / 4656086).round(5)\n",
    "udp_failures_public = udp_failures_public.sort_values('cnt', ascending=False)\n"
   ]
  },
  {
   "cell_type": "code",
   "execution_count": null,
   "id": "a7fe4a28",
   "metadata": {
    "scrolled": true
   },
   "outputs": [],
   "source": [
    "print(udp_failures_public[['cnt', 'perc', 'err_msg']].to_latex(index=False))"
   ]
  },
  {
   "cell_type": "markdown",
   "id": "dc66ef36",
   "metadata": {},
   "source": [
    "#### ================================================================================"
   ]
  },
  {
   "cell_type": "markdown",
   "id": "0cf9491c",
   "metadata": {},
   "source": [
    "# Plot Regional Heatmaps - Response time variance"
   ]
  },
  {
   "cell_type": "code",
   "execution_count": null,
   "id": "11a083f4",
   "metadata": {},
   "outputs": [],
   "source": [
    "udp_total_var = rt_merged.groupby('resolver_name', as_index=False)['result_rt_udp'].std()\n",
    "udp_total_var['continent_code'] = 'Total'\n",
    "udp_total_var = udp_total_var[['resolver_name', 'continent_code', 'result_rt_udp']]"
   ]
  },
  {
   "cell_type": "code",
   "execution_count": null,
   "id": "63010df4",
   "metadata": {},
   "outputs": [],
   "source": [
    "udp_public_var_resolver = []\n",
    "udp_public_var_resolver.insert(0, {'resolver_name': 'Public Resolver', 'continent_code': 'Total', 'result_rt_udp': rt_merged['result_rt_udp'].std()})\n",
    "udp_total_var = pd.concat([pd.DataFrame(udp_public_var_resolver), udp_total_var], ignore_index=True)"
   ]
  },
  {
   "cell_type": "code",
   "execution_count": null,
   "id": "156015dd",
   "metadata": {},
   "outputs": [],
   "source": [
    "udp_total_var"
   ]
  },
  {
   "cell_type": "code",
   "execution_count": null,
   "id": "427194b5",
   "metadata": {},
   "outputs": [],
   "source": [
    "tcp_total_var = rt_merged.groupby('resolver_name', as_index=False)['result_rt_tcp'].std()\n",
    "tcp_total_var['continent_code'] = 'Total'\n",
    "tcp_total_var = tcp_total_var[['resolver_name', 'continent_code', 'result_rt_tcp']]"
   ]
  },
  {
   "cell_type": "code",
   "execution_count": null,
   "id": "8eeb003c",
   "metadata": {},
   "outputs": [],
   "source": [
    "tcp_public_var_resolver = []\n",
    "tcp_public_var_resolver.insert(0, {'resolver_name': 'Public Resolver', 'continent_code': 'Total', 'result_rt_tcp': rt_merged['result_rt_tcp'].std()})\n",
    "tcp_total_var = pd.concat([pd.DataFrame(tcp_public_var_resolver), tcp_total_var], ignore_index=True)"
   ]
  },
  {
   "cell_type": "code",
   "execution_count": null,
   "id": "97af7370",
   "metadata": {},
   "outputs": [],
   "source": [
    "tcp_total_var"
   ]
  },
  {
   "cell_type": "code",
   "execution_count": null,
   "id": "f76bfcf1",
   "metadata": {},
   "outputs": [],
   "source": [
    "udp_heatmap_var = rt_merged.groupby(['resolver_name', 'continent_code'], as_index=False\n",
    "                               )['result_rt_udp'].std().append(udp_total_var)\n",
    "udp_heatmap_public_resolver_var = rt_merged.groupby(['continent_code'], as_index=False\n",
    "                               )['result_rt_udp'].std()\n",
    "\n",
    "udp_heatmap_public_resolver_var['resolver_name'] = 'Public Resolver'\n",
    "udp_heatmap_var = pd.concat([udp_heatmap_public_resolver_var, udp_heatmap_var], ignore_index=True)\n",
    "udp_heatmap_var\n",
    "udp_heatmap_var = pd.crosstab(udp_heatmap_var['resolver_name'], udp_heatmap_var['continent_code'],\n",
    "                          values=udp_heatmap_var['result_rt_udp'], aggfunc='median'\n",
    "                         )"
   ]
  },
  {
   "cell_type": "code",
   "execution_count": null,
   "id": "e19c5372",
   "metadata": {},
   "outputs": [],
   "source": [
    "tcp_heatmap_var = rt_merged.groupby(['resolver_name', 'continent_code'], as_index=False\n",
    "                               )['result_rt_tcp'].std().append(tcp_total_var)\n",
    "tcp_heatmap_public_resolver_var = rt_merged.groupby(['continent_code'], as_index=False\n",
    "                               )['result_rt_tcp'].std()\n",
    "tcp_heatmap_public_resolver_var['resolver_name'] = 'Public Resolver'\n",
    "tcp_heatmap_var = pd.concat([tcp_heatmap_public_resolver_var, tcp_heatmap_var], ignore_index=True)\n",
    "tcp_heatmap_var = pd.crosstab(tcp_heatmap_var['resolver_name'], tcp_heatmap_var['continent_code'],\n",
    "                          values=tcp_heatmap_var['result_rt_tcp'], aggfunc='median'\n",
    "                         )"
   ]
  },
  {
   "cell_type": "code",
   "execution_count": null,
   "id": "20a17cdf",
   "metadata": {},
   "outputs": [],
   "source": [
    "# move Probe Resolver to the bottom and Public Resolver to the top\n",
    "udp_heatmap_var = udp_heatmap_var[udp_heatmap_var.index != 'Probe Resolver'].append(udp_heatmap_var.loc['Probe Resolver'])\n",
    "udp_heatmap_public_resolver_var = udp_heatmap_var[udp_heatmap_var.index == 'Public Resolver']\n",
    "udp_heatmap_tmp_var = udp_heatmap_var[udp_heatmap_var.index != 'Public Resolver']\n",
    "udp_heatmap_var = udp_heatmap_public_resolver_var.append(udp_heatmap_tmp_var)\n",
    "\n",
    "tcp_heatmap_var = tcp_heatmap_var[tcp_heatmap_var.index != 'Probe Resolver'].append(tcp_heatmap_var.loc['Probe Resolver'])\n",
    "tcp_heatmap_public_resolver_var = tcp_heatmap_var[tcp_heatmap_var.index == 'Public Resolver']\n",
    "tcp_heatmap_tmp_var = tcp_heatmap_var[tcp_heatmap_var.index != 'Public Resolver']\n",
    "tcp_heatmap_var = tcp_heatmap_public_resolver_var.append(tcp_heatmap_tmp_var)"
   ]
  },
  {
   "cell_type": "code",
   "execution_count": null,
   "id": "bb17bbf8",
   "metadata": {},
   "outputs": [],
   "source": [
    "udp_heatmap_var"
   ]
  },
  {
   "cell_type": "code",
   "execution_count": null,
   "id": "ca026fd3",
   "metadata": {},
   "outputs": [],
   "source": [
    "tcp_heatmap_var"
   ]
  },
  {
   "cell_type": "code",
   "execution_count": null,
   "id": "6f03c482",
   "metadata": {},
   "outputs": [],
   "source": [
    "((tcp_heatmap_var['Total'] / udp_heatmap_var['Total']) -1 ) * 100  # relative increase from DoUDP to DoTCP"
   ]
  },
  {
   "cell_type": "code",
   "execution_count": null,
   "id": "826a3a9e",
   "metadata": {},
   "outputs": [],
   "source": [
    "diff_heatmap_var = tcp_heatmap_var - udp_heatmap_var"
   ]
  },
  {
   "cell_type": "code",
   "execution_count": null,
   "id": "09d21664",
   "metadata": {},
   "outputs": [],
   "source": [
    "diff_heatmap_var"
   ]
  },
  {
   "cell_type": "code",
   "execution_count": null,
   "id": "059031ec",
   "metadata": {},
   "outputs": [],
   "source": [
    "fig, (ax1, ax2) = plt.subplots(nrows=2, figsize=(6, 6.5), gridspec_kw = {'wspace':0, 'hspace':0.15}, sharex=True)\n",
    "ax1 = sns.heatmap(tcp_heatmap_var,\n",
    "            annot=True,\n",
    "            cmap='RdYlGn_r', #'RdYlBu_r',  # \"RdYlGn_r\",\n",
    "            cbar_kws={'label' : 'Response Time [ms]'},\n",
    "            ax=ax1,\n",
    "            fmt='.1f',\n",
    "            vmin=0,\n",
    "            vmax=600,\n",
    "#             xticklabels=False\n",
    "           )\n",
    "ax1.set_xlabel('')\n",
    "ax1.set_ylabel('')\n",
    "\n",
    "ax2 = sns.heatmap(diff_heatmap_var,\n",
    "            annot=True,\n",
    "            cmap='RdBu_r', #\"RdYlGn_r\",\n",
    "            cbar_kws={'label' : 'Response Time Difference [ms]'},\n",
    "            ax=ax2,\n",
    "            fmt='.1f',\n",
    "            vmin=-200,\n",
    "            vmax=200,\n",
    "           )\n",
    "ax2.set_xlabel('')\n",
    "ax2.set_ylabel('')\n",
    "\n",
    "fig.show()\n",
    "fig.savefig('diff-rt-stddev-heatmap-CC-merged.pdf', bbox_inches='tight')"
   ]
  },
  {
   "cell_type": "markdown",
   "id": "c8bb7e94",
   "metadata": {},
   "source": [
    "# Plot ASN Heatmaps - Response time variance"
   ]
  },
  {
   "cell_type": "markdown",
   "id": "697c33e4",
   "metadata": {},
   "source": [
    "### Data Prep"
   ]
  },
  {
   "cell_type": "code",
   "execution_count": null,
   "id": "709f90f8",
   "metadata": {},
   "outputs": [],
   "source": [
    "rt_pr_asn_udp_var = udp_rt.groupby(['probe_id', 'resolver_name', 'dst_address', 'asn'],\n",
    "                           as_index=False)['result_rt'].std()\n",
    "\n",
    "rt_pr_asn_tcp_var = tcp_rt.groupby(['probe_id', 'resolver_name', 'dst_address', 'asn'],\n",
    "                           as_index=False)['result_rt'].std()"
   ]
  },
  {
   "cell_type": "code",
   "execution_count": null,
   "id": "c50d485c",
   "metadata": {},
   "outputs": [],
   "source": [
    "rt_pr_asn_udp_var"
   ]
  },
  {
   "cell_type": "code",
   "execution_count": null,
   "id": "06bced2d",
   "metadata": {},
   "outputs": [],
   "source": [
    "rt_pr_asn_tcp_var"
   ]
  },
  {
   "cell_type": "code",
   "execution_count": null,
   "id": "e34ada3c",
   "metadata": {},
   "outputs": [],
   "source": [
    "# inner join will remove all probe resolvers that do not respond over DoTCP\n",
    "rt_asn_merged_var = rt_pr_asn_udp_var.merge(rt_pr_asn_tcp_var, on=['probe_id', 'resolver_name', 'dst_address', 'asn'\n",
    "                                          ], suffixes=['_udp', '_tcp'])"
   ]
  },
  {
   "cell_type": "code",
   "execution_count": null,
   "id": "72d98bd7",
   "metadata": {
    "scrolled": true
   },
   "outputs": [],
   "source": [
    "rt_asn_merged_var"
   ]
  },
  {
   "cell_type": "markdown",
   "id": "9541f9fd",
   "metadata": {},
   "source": [
    "### Get AS with the Most Probes"
   ]
  },
  {
   "cell_type": "code",
   "execution_count": null,
   "id": "c54685cb",
   "metadata": {},
   "outputs": [],
   "source": [
    "probe_ids_var = rt_asn_merged_var.drop_duplicates(subset=['probe_id'])\n",
    "probe_ids_var = probe_ids_var[['probe_id', 'asn']]\n",
    "probe_ids_var"
   ]
  },
  {
   "cell_type": "code",
   "execution_count": null,
   "id": "036668a8",
   "metadata": {},
   "outputs": [],
   "source": [
    "probes_per_asn_var = probe_ids_var.groupby('asn', as_index = False).size()\n",
    "probes_per_asn_top_10_var = probes_per_asn_var.nlargest(10, 'size')\n",
    "probes_per_asn_top_10_var['asn_name'] = probes_per_asn_top_10_var.apply(lambda row : lookupASName(row['asn']), axis = 1)\n",
    "probes_per_asn_top_10_var.at[32, 'asn_name'] = 'Orange S.A.'\n",
    "probes_per_asn_top_10_var"
   ]
  },
  {
   "cell_type": "markdown",
   "id": "e4158f31",
   "metadata": {},
   "source": [
    "### Filter RTs to Top 10 AS"
   ]
  },
  {
   "cell_type": "code",
   "execution_count": null,
   "id": "58d0e073",
   "metadata": {},
   "outputs": [],
   "source": [
    "rt_asn_merged_top_10_var = rt_asn_merged_var[rt_asn_merged_var['asn'].isin(probes_per_asn_top_10_var['asn'])]\n",
    "rt_asn_merged_top_10_var"
   ]
  },
  {
   "cell_type": "code",
   "execution_count": null,
   "id": "e86615db",
   "metadata": {},
   "outputs": [],
   "source": [
    "rt_asn_merged_top_10_var = rt_asn_merged_top_10_var.merge(probes_per_asn_top_10_var, how='left', left_on='asn', right_on='asn')\n",
    "rt_asn_merged_top_10_var[(rt_asn_merged_top_10_var['asn_name'] == 'Orange S.A.') & (rt_asn_merged_top_10_var['resolver_name'] == 'OpenNIC')]\n",
    "\n",
    "# Orange S.A. on openNIC is empty, which is expected"
   ]
  },
  {
   "cell_type": "code",
   "execution_count": null,
   "id": "302a911f",
   "metadata": {},
   "outputs": [],
   "source": [
    "udp_asn_heatmap_var = rt_asn_merged_top_10_var.groupby(['resolver_name', 'asn_name'], as_index=False\n",
    "                               )['result_rt_udp'].std()\n",
    "udp_asn_heatmap_public_resolver_var = rt_asn_merged_top_10_var.groupby(['asn_name'], as_index=False\n",
    "                               )['result_rt_udp'].std()\n",
    "udp_asn_heatmap_public_resolver_var['resolver_name'] = 'Public Resolver'\n",
    "udp_asn_heatmap_var = pd.concat([udp_asn_heatmap_public_resolver_var, udp_asn_heatmap_var], ignore_index=True)\n",
    "udp_asn_heatmap_var = pd.crosstab(udp_asn_heatmap_var['resolver_name'], udp_asn_heatmap_var['asn_name'],\n",
    "                          values=udp_asn_heatmap_var['result_rt_udp'], aggfunc='median'\n",
    "                         )"
   ]
  },
  {
   "cell_type": "code",
   "execution_count": null,
   "id": "74383de4",
   "metadata": {},
   "outputs": [],
   "source": [
    "tcp_asn_heatmap_var = rt_asn_merged_top_10_var.groupby(['resolver_name', 'asn_name'], as_index=False\n",
    "                               )['result_rt_tcp'].std()\n",
    "tcp_asn_heatmap_public_resolver_var = rt_asn_merged_top_10_var.groupby(['asn_name'], as_index=False\n",
    "                               )['result_rt_tcp'].std()\n",
    "tcp_asn_heatmap_public_resolver_var['resolver_name'] = 'Public Resolver'\n",
    "tcp_asn_heatmap_var = pd.concat([tcp_asn_heatmap_public_resolver_var, tcp_asn_heatmap_var], ignore_index=True)\n",
    "tcp_asn_heatmap_var = pd.crosstab(tcp_asn_heatmap_var['resolver_name'], tcp_asn_heatmap_var['asn_name'],\n",
    "                          values=tcp_asn_heatmap_var['result_rt_tcp'], aggfunc='median'\n",
    "                         )"
   ]
  },
  {
   "cell_type": "code",
   "execution_count": null,
   "id": "92734c90",
   "metadata": {},
   "outputs": [],
   "source": [
    "# move Probe Resolver to the bottom and Public Resolver to the top\n",
    "udp_asn_heatmap_var = udp_asn_heatmap_var[udp_asn_heatmap_var.index != 'Probe Resolver'].append(udp_asn_heatmap_var.loc['Probe Resolver'])\n",
    "udp_asn_heatmap_public_resolver_var = udp_asn_heatmap_var[udp_asn_heatmap_var.index == 'Public Resolver']\n",
    "udp_asn_heatmap_tmp_var = udp_asn_heatmap_var[udp_asn_heatmap_var.index != 'Public Resolver']\n",
    "udp_asn_heatmap_var = udp_asn_heatmap_public_resolver_var.append(udp_asn_heatmap_tmp_var)\n",
    "\n",
    "tcp_asn_heatmap_var = tcp_asn_heatmap_var[tcp_asn_heatmap_var.index != 'Probe Resolver'].append(tcp_asn_heatmap_var.loc['Probe Resolver'])\n",
    "tcp_asn_heatmap_public_resolver_var = tcp_asn_heatmap_var[tcp_asn_heatmap_var.index == 'Public Resolver']\n",
    "tcp_asn_heatmap_tmp_var = tcp_asn_heatmap_var[tcp_asn_heatmap_var.index != 'Public Resolver']\n",
    "tcp_asn_heatmap_var = tcp_asn_heatmap_public_resolver_var.append(tcp_asn_heatmap_tmp_var)"
   ]
  },
  {
   "cell_type": "code",
   "execution_count": null,
   "id": "11f55754",
   "metadata": {},
   "outputs": [],
   "source": [
    "udp_asn_heatmap_var"
   ]
  },
  {
   "cell_type": "code",
   "execution_count": null,
   "id": "ce8f804d",
   "metadata": {},
   "outputs": [],
   "source": [
    "tcp_asn_heatmap_var"
   ]
  },
  {
   "cell_type": "code",
   "execution_count": null,
   "id": "58297f34",
   "metadata": {},
   "outputs": [],
   "source": [
    "diff_asn_heatmap_var = tcp_asn_heatmap_var - udp_asn_heatmap_var"
   ]
  },
  {
   "cell_type": "code",
   "execution_count": null,
   "id": "d6c484d2",
   "metadata": {},
   "outputs": [],
   "source": [
    "diff_asn_heatmap_var"
   ]
  },
  {
   "cell_type": "code",
   "execution_count": null,
   "id": "41f830bb",
   "metadata": {},
   "outputs": [],
   "source": [
    "probes_per_asn_top_10_var['asn_name'].unique()"
   ]
  },
  {
   "cell_type": "code",
   "execution_count": null,
   "id": "bc07d2ae",
   "metadata": {
    "scrolled": false
   },
   "outputs": [],
   "source": [
    "fig, (ax1, ax2) = plt.subplots(nrows=2, figsize=(8, 6.5), gridspec_kw = {'wspace':0, 'hspace':0.15}, sharex=True)\n",
    "ax1 = sns.heatmap(tcp_asn_heatmap_var[probes_per_asn_top_10_var['asn_name'].unique()],\n",
    "            annot=True,\n",
    "            cmap='RdYlGn_r', #'RdYlBu_r',  # \"RdYlGn_r\",\n",
    "            cbar_kws={'label' : 'Response Time [ms]'},\n",
    "            ax=ax1,\n",
    "            fmt='.1f',\n",
    "            vmin=0,\n",
    "            vmax=300,\n",
    "#             xticklabels=False\n",
    "           )\n",
    "ax1.set_xlabel('')\n",
    "ax1.set_ylabel('')\n",
    "\n",
    "ax2 = sns.heatmap(diff_asn_heatmap_var[probes_per_asn_top_10_var['asn_name'].unique()],\n",
    "            annot=True,\n",
    "            cmap='RdBu_r', #\"RdYlGn_r\",\n",
    "            cbar_kws={'label' : 'Response Time Difference [ms]'},\n",
    "            ax=ax2,\n",
    "            fmt='.1f',\n",
    "            vmin=-200,\n",
    "            vmax=200,\n",
    "           )\n",
    "ax2.set_xlabel('')\n",
    "ax2.set_ylabel('')\n",
    "\n",
    "fig.show()\n",
    "fig.savefig('diff-rt-stddev-heatmap-ASN-merged.pdf', bbox_inches='tight')"
   ]
  },
  {
   "cell_type": "code",
   "execution_count": null,
   "id": "3dc4831d",
   "metadata": {},
   "outputs": [],
   "source": []
  }
 ],
 "metadata": {
  "kernelspec": {
   "display_name": "Python 3.8.12",
   "language": "python",
   "name": "python3"
  },
  "language_info": {
   "codemirror_mode": {
    "name": "ipython",
    "version": 3
   },
   "file_extension": ".py",
   "mimetype": "text/x-python",
   "name": "python",
   "nbconvert_exporter": "python",
   "pygments_lexer": "ipython3",
   "version": "3.8.12"
  }
 },
 "nbformat": 4,
 "nbformat_minor": 5
}
